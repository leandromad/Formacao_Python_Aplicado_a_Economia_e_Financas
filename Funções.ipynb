{
 "cells": [
  {
   "cell_type": "code",
   "execution_count": 1,
   "id": "c8a8072f",
   "metadata": {},
   "outputs": [
    {
     "name": "stdout",
     "output_type": "stream",
     "text": [
      "Digite um número inteiro: 4\n",
      "6\n",
      "10\n"
     ]
    }
   ],
   "source": [
    "# Escrevendo nossa primeira função\n",
    "\n",
    "numero_digitado = int(input('Digite um número inteiro: '))\n",
    "\n",
    "def soma_numeros(numero, soma = 2):\n",
    "    \n",
    "    numero_somado = numero + soma\n",
    "    \n",
    "    return numero_somado\n",
    "\n",
    "novo_numero = soma_numeros(numero = numero_digitado)\n",
    "\n",
    "novo_numero_opcional = soma_numeros(numero = numero_digitado, soma = 6)\n",
    "\n",
    "print(novo_numero)\n",
    "print(novo_numero_opcional)"
   ]
  },
  {
   "cell_type": "code",
   "execution_count": 2,
   "id": "24f8aa23",
   "metadata": {},
   "outputs": [
    {
     "name": "stdout",
     "output_type": "stream",
     "text": [
      "Digite a cotação inicial: 20\n",
      "Digite a cotação final: 30\n",
      "50.00%\n"
     ]
    }
   ],
   "source": [
    "def calcula_rentabilidade(valor_inicial, valor_final):\n",
    "    \n",
    "    rentabilidade = valor_final/valor_inicial - 1\n",
    "    \n",
    "    rentabilidade_em_porcentagem = \"{:.2%}\".format(rentabilidade)\n",
    "    \n",
    "    return rentabilidade_em_porcentagem\n",
    "\n",
    "\n",
    "valor_inicial = float(input('Digite a cotação inicial: '))\n",
    "valor_final = float(input('Digite a cotação final: '))\n",
    "\n",
    "rentabilidade = calcula_rentabilidade(valor_inicial=valor_inicial, valor_final=valor_final)\n",
    "\n",
    "print(rentabilidade)\n",
    "\n"
   ]
  },
  {
   "cell_type": "code",
   "execution_count": 3,
   "id": "61a26c57",
   "metadata": {},
   "outputs": [
    {
     "data": {
      "text/plain": [
       "'O principal motivo para usar lambda é usar funções como parâmetros de outras funções\\nao invés de criar uma função inteira so pra usar de parâmetro'"
      ]
     },
     "execution_count": 3,
     "metadata": {},
     "output_type": "execute_result"
    }
   ],
   "source": [
    "# Funções lambda\n",
    "\n",
    "'''O principal motivo para usar lambda é usar funções como parâmetros de outras funções\n",
    "ao invés de criar uma função inteira so pra usar de parâmetro'''"
   ]
  },
  {
   "cell_type": "code",
   "execution_count": 6,
   "id": "e3eba585",
   "metadata": {},
   "outputs": [
    {
     "name": "stdout",
     "output_type": "stream",
     "text": [
      "2.0\n"
     ]
    }
   ],
   "source": [
    "def calcular_desconto(preco):\n",
    "    \n",
    "    return preco*0.2 # Isso é muito simples, pode ser escrito numa lambda.\n",
    "\n",
    "calcular_desconto2 = lambda x: x*0.2\n",
    "\n",
    "desconto = calcular_desconto(10)\n",
    "desconto = calcular_desconto2(10)\n",
    "\n",
    "print(desconto)"
   ]
  },
  {
   "cell_type": "code",
   "execution_count": 7,
   "id": "4c7a0d26",
   "metadata": {},
   "outputs": [
    {
     "name": "stdout",
     "output_type": "stream",
     "text": [
      "[2.0, 4.0, 6.0, 8.0]\n"
     ]
    }
   ],
   "source": [
    "# Aplicação na prática\n",
    "\n",
    "precos = [10, 20, 30 ,40]\n",
    "\n",
    "# Como a gente pode aplicar a função desconto a todos os elementos da lista?\n",
    "#o comando map aplica uma função a todos os items da lista\n",
    "\n",
    "descontos = list(map(calcular_desconto, precos))\n",
    "\n",
    "descontos = list(map(lambda x: x*0.2, precos)) # Só com a lambda nós conseguimos fazer isso e poupar código e tempo\n",
    "\n",
    "print(descontos)\n",
    "\n"
   ]
  },
  {
   "cell_type": "markdown",
   "id": "b0d234d2",
   "metadata": {},
   "source": [
    "# Desafios\n",
    "\n",
    "- Exercício 22: Crie uma função que recebe graus celsius digitado pelo usuário e converte para Fº\n",
    "\n",
    "- Exercício 23: Crie uma função que receba uma lista de cotações e retorna o retorno diário dessa lista de cotações"
   ]
  },
  {
   "cell_type": "code",
   "execution_count": 3,
   "id": "a7920614",
   "metadata": {},
   "outputs": [
    {
     "name": "stdout",
     "output_type": "stream",
     "text": [
      "Olá, qual a temperatura em ºC na sua cidade hoje? 28\n",
      "28.0ºC corresponde a 82.4ºF\n"
     ]
    }
   ],
   "source": [
    "# Exercício 22\n",
    "\n",
    "celsius = float(input(\"Olá, qual a temperatura em ºC na sua cidade hoje? \"))\n",
    "\n",
    "def fahrenheit(celsius):\n",
    "    return (celsius * (9/5)) + 32\n",
    "\n",
    "temperatura = fahrenheit(celsius)\n",
    "print(f\"{celsius}ºC corresponde a {temperatura}ºF\")"
   ]
  },
  {
   "cell_type": "code",
   "execution_count": 14,
   "id": "51b35b65",
   "metadata": {},
   "outputs": [
    {
     "name": "stdout",
     "output_type": "stream",
     "text": [
      "Olá, qual a temperatura em ºC na sua cidade hoje? 20\n",
      "20.0ºC corresponde a 68.0ºF\n"
     ]
    }
   ],
   "source": [
    "# Exercício 22 Lambda\n",
    "\n",
    "celsius = float(input(\"Olá, qual a temperatura em ºC na sua cidade hoje? \"))\n",
    "fahrenheit = lambda celsius: (celsius * (9/5)) + 32\n",
    "temperatura = fahrenheit(celsius)\n",
    "print(f\"{celsius}ºC corresponde a {temperatura}ºF\")"
   ]
  },
  {
   "cell_type": "code",
   "execution_count": 9,
   "id": "3d9d25d2",
   "metadata": {},
   "outputs": [
    {
     "name": "stdout",
     "output_type": "stream",
     "text": [
      "Digite a cotação: 20\n",
      "Deseja continuar? [S/N] n\n",
      "Não é possível calcular retornos com apenas uma ação.\n",
      "Digite a cotação: 30\n",
      "Deseja continuar? [S/N] sk\n",
      "Por favor, digite um comando válido: [S/N] s\n",
      "Digite a cotação: 40\n",
      "Deseja continuar? [S/N] n\n",
      "{'Retorno dia 1': '50.00%', 'Retorno dia 2': '33.33%'}\n"
     ]
    }
   ],
   "source": [
    "# Exercício 23\n",
    "\n",
    "lista_cotacao = []\n",
    "chave = True\n",
    "\n",
    "while chave:\n",
    "    \n",
    "    cotacao = float(input(\"Digite a cotação: \"))\n",
    "    continuar = str(input(\"Deseja continuar? [S/N] \")).lower()\n",
    "    \n",
    "    lista_cotacao.append(cotacao)\n",
    "        \n",
    "    \n",
    "    if continuar != \"s\" and continuar != \"n\":\n",
    "        invalido = True\n",
    "    \n",
    "        while invalido:\n",
    "            \n",
    "            continuar = str(input(\"Por favor, digite um comando válido: [S/N] \")).lower()\n",
    "            \n",
    "            if continuar == 's' or continuar == 'n':\n",
    "                break\n",
    "            \n",
    "                \n",
    "        \n",
    "    if continuar == \"n\" and len(lista_cotacao) > 1:\n",
    "        break\n",
    "        \n",
    "    elif continuar == \"n\" and len(lista_cotacao) == 1:\n",
    "        \n",
    "        print(\"Não é possível calcular retornos com apenas uma ação.\")\n",
    "        \n",
    "        \n",
    "\n",
    "dicionario_retornos = {}\n",
    "\n",
    "def calcula_retornos(lista_cotacao):\n",
    "\n",
    "    for i in range(1, len(lista_cotacao)):\n",
    "        \n",
    "        retorno = lista_cotacao[i]/lista_cotacao[i-1] - 1\n",
    "        \n",
    "        retorno_percentual = \"{:.2%}\".format(retorno)\n",
    "        \n",
    "        dicionario_retornos[f\"Retorno dia {i}\"] = retorno_percentual\n",
    "        \n",
    "calcula_retornos(lista_cotacao=lista_cotacao)\n",
    "\n",
    "print(dicionario_retornos)\n",
    "    "
   ]
  }
 ],
 "metadata": {
  "kernelspec": {
   "display_name": "Python 3 (ipykernel)",
   "language": "python",
   "name": "python3"
  },
  "language_info": {
   "codemirror_mode": {
    "name": "ipython",
    "version": 3
   },
   "file_extension": ".py",
   "mimetype": "text/x-python",
   "name": "python",
   "nbconvert_exporter": "python",
   "pygments_lexer": "ipython3",
   "version": "3.9.13"
  }
 },
 "nbformat": 4,
 "nbformat_minor": 5
}
