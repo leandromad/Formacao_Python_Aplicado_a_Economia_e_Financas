{
 "cells": [
  {
   "cell_type": "markdown",
   "id": "514044d5",
   "metadata": {},
   "source": [
    "# Comentários\n",
    "\n",
    "Iremos ver algo que pode ser utilizado pro bem ou pro mal dentro do código: comentários. Como você pode digitar coisas dentro do seu código, sem que o programa execute? Qual a melhor forma de usar comentários pro seu código não ficar ruim, lotado de texto que mais confunde do que ajuda?"
   ]
  },
  {
   "cell_type": "code",
   "execution_count": 5,
   "id": "3a6afb7d",
   "metadata": {},
   "outputs": [
    {
     "name": "stdout",
     "output_type": "stream",
     "text": [
      "2\n"
     ]
    }
   ],
   "source": [
    "# comentar assim\n",
    "\n",
    "a = 2\n",
    "\n",
    "\n",
    "\n",
    "'''\n",
    "Comentar assim\n",
    "sadhsdbisddshsihsifhihd\n",
    "sdahisfhniffh\n",
    "'''\n",
    "\n",
    "print(a)\n",
    "\n"
   ]
  },
  {
   "cell_type": "markdown",
   "id": "675f1ec9",
   "metadata": {},
   "source": [
    "# Boas práticas de comentários\n",
    "\n",
    "Comentários quanto MENOS melhor. Toda vez que você tem que comentar algo você falhou como programador ao gerar um código muito complexo ou com nomes ruins."
   ]
  },
  {
   "cell_type": "code",
   "execution_count": 7,
   "id": "f76c595e",
   "metadata": {},
   "outputs": [],
   "source": [
    "#Exemplo de comentário ruim:\n",
    "\n",
    "# as variáveis a e b representam quantas vezes o palmeiras e o flamengo ganharam no campeonato brasileiro, respectivamente.\n",
    "\n",
    "a = 2\n",
    "b = 4\n",
    "# c = 4\n",
    "\n",
    "#correto:\n",
    "\n",
    "vitorias_palmeiras = 2\n",
    "vitorias_flamengo = 4"
   ]
  },
  {
   "cell_type": "markdown",
   "id": "cd073e8e",
   "metadata": {},
   "source": [
    "Os comentários quebram o código, são linhas \"opacas\" e interrompem o fluxo de raciocíno envolvendo o códgigo.\n",
    "\n",
    "O número ideal de comentários é ZERO. Comentar uma coisa o outra esporadicamente para te lembrar de algo é ok, ou explicar algo momentaneamente em que você ainda não encontrou bons nomes.\n",
    "\n",
    "NUNCA comentar código em algoritmos finais. Em códigos extensos e de projetos complexos, outros programadores jamais saberão se é algo inutil ou importante."
   ]
  },
  {
   "cell_type": "code",
   "execution_count": null,
   "id": "d565abdf",
   "metadata": {},
   "outputs": [],
   "source": []
  }
 ],
 "metadata": {
  "kernelspec": {
   "display_name": "Python 3 (ipykernel)",
   "language": "python",
   "name": "python3"
  },
  "language_info": {
   "codemirror_mode": {
    "name": "ipython",
    "version": 3
   },
   "file_extension": ".py",
   "mimetype": "text/x-python",
   "name": "python",
   "nbconvert_exporter": "python",
   "pygments_lexer": "ipython3",
   "version": "3.9.13"
  }
 },
 "nbformat": 4,
 "nbformat_minor": 5
}
