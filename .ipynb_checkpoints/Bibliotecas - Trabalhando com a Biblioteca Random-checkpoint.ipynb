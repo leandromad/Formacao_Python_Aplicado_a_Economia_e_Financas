{
 "cells": [
  {
   "cell_type": "code",
   "execution_count": 1,
   "id": "660b25cc",
   "metadata": {},
   "outputs": [],
   "source": [
    "import random # Importa toda a biblioteca\n",
    "\n",
    "# É uma biblioteca que já vem naturalmente com o Python, não sendo necessário a instalação\n",
    "\n",
    "from random import choice  # Importa apenas uma função da biblioteca"
   ]
  },
  {
   "cell_type": "code",
   "execution_count": 2,
   "id": "ccb1a0b4",
   "metadata": {},
   "outputs": [
    {
     "name": "stdout",
     "output_type": "stream",
     "text": [
      "0.19007631622061116\n"
     ]
    }
   ],
   "source": [
    "valor_entre_0_ou_1 = random.random()\n",
    "\n",
    "print(valor_entre_0_ou_1)"
   ]
  },
  {
   "cell_type": "code",
   "execution_count": 3,
   "id": "008ad040",
   "metadata": {},
   "outputs": [
    {
     "name": "stdout",
     "output_type": "stream",
     "text": [
      "13.580259610795753\n"
     ]
    }
   ],
   "source": [
    "valor_decimal_de_igual_probabilidade_entre_valores = random.uniform(10,100)\n",
    "\n",
    "print(valor_decimal_de_igual_probabilidade_entre_valores)"
   ]
  },
  {
   "cell_type": "code",
   "execution_count": 4,
   "id": "65cd4d87",
   "metadata": {},
   "outputs": [
    {
     "name": "stdout",
     "output_type": "stream",
     "text": [
      "14\n"
     ]
    }
   ],
   "source": [
    "valor_inteiro_de_igual_probabilidade_entre_valores = random.randint(10,100)\n",
    "\n",
    "print(valor_inteiro_de_igual_probabilidade_entre_valores)"
   ]
  },
  {
   "cell_type": "code",
   "execution_count": 18,
   "id": "71b22e65",
   "metadata": {},
   "outputs": [
    {
     "name": "stdout",
     "output_type": "stream",
     "text": [
      "5.029721862450325\n"
     ]
    }
   ],
   "source": [
    "valor_dist_normal = random.gauss(10,30)\n",
    "\n",
    "print(valor_dist_normal)"
   ]
  },
  {
   "cell_type": "code",
   "execution_count": 19,
   "id": "e523782c",
   "metadata": {},
   "outputs": [
    {
     "name": "stdout",
     "output_type": "stream",
     "text": [
      "LREN3\n"
     ]
    }
   ],
   "source": [
    "# Sorteio, importando a função direto.\n",
    "\n",
    "tickers = ['WEG3','PCAR3','LREN3']\n",
    "\n",
    "empresa_escolhida = choice(tickers)\n",
    "\n",
    "print(empresa_escolhida)"
   ]
  },
  {
   "cell_type": "markdown",
   "id": "547bc6c3",
   "metadata": {},
   "source": [
    "# Desafios\n",
    "\n",
    "- Exercício 9: Crie um programa que escolha entre cara ou coroa e print o resultado na tela\n",
    "\n",
    "- Exercício 10: Se inspire em alguns professores de faculdade e crie um programa que escolhe uma nota de 0 a 10 e mostra a seguinte mensagem na tela \"a nota da sua prova foi x\" sendo x a nota escolhida."
   ]
  },
  {
   "cell_type": "code",
   "execution_count": 28,
   "id": "9efc4da4",
   "metadata": {},
   "outputs": [
    {
     "name": "stdout",
     "output_type": "stream",
     "text": [
      "COROA\n"
     ]
    }
   ],
   "source": [
    "# Exercício 9:\n",
    "cara_ou_coroa = ['CARA','COROA']\n",
    "escolha = choice(cara_ou_coroa)\n",
    "print(escolha)"
   ]
  },
  {
   "cell_type": "code",
   "execution_count": 34,
   "id": "3edd8e8a",
   "metadata": {},
   "outputs": [
    {
     "name": "stdout",
     "output_type": "stream",
     "text": [
      "A nota da sua prova foi 7!\n"
     ]
    }
   ],
   "source": [
    "# Exercício 10:\n",
    "nota = random.randint(0,10)\n",
    "print(f\"A nota da sua prova foi {nota}!\")"
   ]
  },
  {
   "cell_type": "code",
   "execution_count": null,
   "id": "51b0ce5c",
   "metadata": {},
   "outputs": [],
   "source": []
  }
 ],
 "metadata": {
  "kernelspec": {
   "display_name": "Python 3 (ipykernel)",
   "language": "python",
   "name": "python3"
  },
  "language_info": {
   "codemirror_mode": {
    "name": "ipython",
    "version": 3
   },
   "file_extension": ".py",
   "mimetype": "text/x-python",
   "name": "python",
   "nbconvert_exporter": "python",
   "pygments_lexer": "ipython3",
   "version": "3.9.13"
  }
 },
 "nbformat": 4,
 "nbformat_minor": 5
}
