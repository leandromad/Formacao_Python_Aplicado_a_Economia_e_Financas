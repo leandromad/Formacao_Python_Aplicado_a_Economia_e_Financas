{
 "cells": [
  {
   "cell_type": "code",
   "execution_count": 1,
   "id": "e5c7e0f3",
   "metadata": {},
   "outputs": [],
   "source": [
    "# Criando uma condição\n",
    "\n",
    "# Banco de dados\n",
    "\n",
    "weg = {\"Ticker\": \"WEGE3\",\"Lucro\": 1700, \"Segmento de Listagem\": \"Novo Mercado\",\"ROE\":0.20}\n",
    "\n",
    "vale = {\"Ticker\": \"VALE3\", \"Lucro\": 21700, \"Segmento de Listagem\": \"Novo Mercado\", \"ROE\":0.19}\n",
    "\n",
    "petrobras = {\"Ticker\": [\"PETR3\",\"PETR4\"], \"Lucro\": 6700, \"Segmento de Listagem\": \"Nível 2\", \"ROE\":0.15}\n",
    "\n",
    "tranqueira_fc = {\"Ticker\": \"TRNQ3\",\"Lucro\": -20000, \"Segmento de Listagem\": \"Tradicional\", \"ROE\": 0.02}"
   ]
  },
  {
   "cell_type": "code",
   "execution_count": 11,
   "id": "69412a74",
   "metadata": {},
   "outputs": [
    {
     "name": "stdout",
     "output_type": "stream",
     "text": [
      "Escolha uma empresa entre Weg, Petrobras e Vale: Weg\n"
     ]
    }
   ],
   "source": [
    "empresa_escolhida = str(input(\"Escolha uma empresa entre Weg, Petrobras e Vale: \")).lower()"
   ]
  },
  {
   "cell_type": "code",
   "execution_count": 12,
   "id": "a510a3f6",
   "metadata": {},
   "outputs": [
    {
     "name": "stdout",
     "output_type": "stream",
     "text": [
      "O lucro da Weg é R$1700, seu código de negociação é WEGE3, e o ROE da empresa é de 20%\n"
     ]
    }
   ],
   "source": [
    "if empresa_escolhida == \"weg\":\n",
    "    porcentagem_roe = \"{:.0%}\".format(weg['ROE'])\n",
    "    print(f\"O lucro da Weg é R${weg['Lucro']}, seu código de negociação é {weg['Ticker']}, e o ROE da empresa é de {porcentagem_roe}\")\n",
    " \n",
    "elif empresa_escolhida == \"vale\":\n",
    "    porcentagem_roe = \"{:.0%}\".format(vale['ROE'])\n",
    "    print(f\"O lucro da Vale é R${vale['Lucro']}, seu código de negociação é {vale['Ticker']}, e o ROE da empresa é de {porcentagem_roe}\")\n",
    "\n",
    "elif empresa_escolhida == \"petrobras\":\n",
    "    porcentagem_roe = \"{:.0%}\".format(petrobras['ROE'])\n",
    "    print(f\"O lucro da Petrobras é R${petrobras['Lucro']}, seu código de negociação é {petrobras['Ticker']}, e o ROE da empresa é de {porcentagem_roe}\")\n",
    "\n",
    "else:\n",
    "    print(\"Por favor digite uma empresa válida!\")"
   ]
  },
  {
   "cell_type": "code",
   "execution_count": 14,
   "id": "5e4b64fb",
   "metadata": {},
   "outputs": [
    {
     "name": "stdout",
     "output_type": "stream",
     "text": [
      "Escolha uma empresa entre Weg, Petrobras, Vale ou Tranqueira: TRANQUEIRA\n",
      "Tem certeza que deseja saber sobre a Tranqueira? Digite 'S' para sim e 'N' para não S\n"
     ]
    }
   ],
   "source": [
    "empresa_escolhida = str(input(\"Escolha uma empresa entre Weg, Petrobras, Vale ou Tranqueira: \")).lower()\n",
    "escolha = True\n",
    "\n",
    "if empresa_escolhida == \"tranqueira\":\n",
    "    \n",
    "    usuario_escolha = str(input(\"Tem certeza que deseja saber sobre a Tranqueira? Digite 'S' para sim e 'N' para não \")).lower()\n",
    "    \n",
    "    if usuario_escolha == \"n\":\n",
    "        \n",
    "        escolha = False\n",
    "        \n",
    "    else: \n",
    "        \n",
    "        pass"
   ]
  },
  {
   "cell_type": "code",
   "execution_count": 16,
   "id": "97d268c7",
   "metadata": {},
   "outputs": [
    {
     "name": "stdout",
     "output_type": "stream",
     "text": [
      "O lucro da Tranqueira é R$-20000, seu código de negociação é TRNQ3, e o ROE da empresa é de 2%\n"
     ]
    }
   ],
   "source": [
    "if empresa_escolhida == \"weg\":\n",
    "    porcentagem_roe = \"{:.0%}\".format(weg['ROE'])\n",
    "    print(f\"O lucro da Weg é R${weg['Lucro']}, seu código de negociação é {weg['Ticker']}, e o ROE da empresa é de {porcentagem_roe}\")\n",
    " \n",
    "elif empresa_escolhida == \"vale\":\n",
    "    porcentagem_roe = \"{:.0%}\".format(vale['ROE'])\n",
    "    print(f\"O lucro da Vale é R${vale['Lucro']}, seu código de negociação é {vale['Ticker']}, e o ROE da empresa é de {porcentagem_roe}\")\n",
    "\n",
    "elif empresa_escolhida == \"petrobras\":\n",
    "    porcentagem_roe = \"{:.0%}\".format(petrobras['ROE'])\n",
    "    print(f\"O lucro da Petrobras é R${petrobras['Lucro']}, seu código de negociação é {petrobras['Ticker']}, e o ROE da empresa é de {porcentagem_roe}\")\n",
    "\n",
    "elif empresa_escolhida == \"tranqueira\" and escolha != False:\n",
    "    porcentagem_roe = \"{:.0%}\".format(tranqueira_fc['ROE'])\n",
    "    print(f\"O lucro da Tranqueira é R${tranqueira_fc['Lucro']}, seu código de negociação é {tranqueira_fc['Ticker']}, e o ROE da empresa é de {porcentagem_roe}\")\n",
    "\n",
    "elif empresa_escolhida == \"tranqueira\" and escolha == False:\n",
    "    \n",
    "    print(\"Melhor não saber mesmo!\")\n",
    "\n",
    "else:\n",
    "    \n",
    "    print('Por favor, digite uma empresa válida!')\n",
    "    "
   ]
  },
  {
   "cell_type": "markdown",
   "id": "4db9377a",
   "metadata": {},
   "source": [
    "# Desafios\n",
    "\n",
    "- Exercício 18: Crie um algoritmo que receba um código de negociação e mostre na tela se esse código é PN, ON ou UNIT. Lembrando: Código ON sempre termina em 3, PN sempre termina em 4 e UNIT em 11.\n",
    "\n",
    "- Exercício 19: Crie um programa que receba 3 informações do usuário: nome da empresa, ROE e preço/lucro. Gere recomendações de investimento baseado no ROE e no P/L. Uma condição para caso o ROE seja maior que 20% e o P/L acima de 20, outra para caso o ROE seja 20% mas o P/L seja menor que 5, etc. Seja criativo e utilize as condições \"or\" e \"and\".\n",
    "\n",
    "ROE - rentabilidade de uma empresa que varia de negativo a infinitos %. Quanto maior, melhor.\n",
    "\n",
    "P/L - preço/lucro. Quanto menor melhor, contando que não seja negativo, pois significa que a empresa teve prejuízo. Uma empresa com alto ROE e baixo P/L seria o ideal."
   ]
  },
  {
   "cell_type": "code",
   "execution_count": null,
   "id": "93a2b4ad",
   "metadata": {},
   "outputs": [],
   "source": []
  }
 ],
 "metadata": {
  "kernelspec": {
   "display_name": "Python 3 (ipykernel)",
   "language": "python",
   "name": "python3"
  },
  "language_info": {
   "codemirror_mode": {
    "name": "ipython",
    "version": 3
   },
   "file_extension": ".py",
   "mimetype": "text/x-python",
   "name": "python",
   "nbconvert_exporter": "python",
   "pygments_lexer": "ipython3",
   "version": "3.9.13"
  }
 },
 "nbformat": 4,
 "nbformat_minor": 5
}
