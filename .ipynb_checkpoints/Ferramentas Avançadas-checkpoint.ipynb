{
 "cells": [
  {
   "cell_type": "code",
   "execution_count": 1,
   "id": "e54579bb",
   "metadata": {},
   "outputs": [],
   "source": [
    "# Vamos supor que você tenha uma lista\n",
    "\n",
    "lista_codigos_negociacao = ['WEGE3','PETR4','PETR3','PCAR3','ALPA4']\n",
    "\n",
    "# Como selecionar todos os itens da lista que são ON?"
   ]
  },
  {
   "cell_type": "code",
   "execution_count": 2,
   "id": "f34ae2bc",
   "metadata": {},
   "outputs": [
    {
     "name": "stdout",
     "output_type": "stream",
     "text": [
      "['WEGE3', 'PETR3', 'PCAR3']\n"
     ]
    }
   ],
   "source": [
    "nova_lista_codigos = []\n",
    "\n",
    "for ticker in lista_codigos_negociacao:\n",
    "    \n",
    "    if '3' in ticker:\n",
    "        \n",
    "        nova_lista_codigos.append(ticker)\n",
    "        \n",
    "print(nova_lista_codigos)"
   ]
  },
  {
   "cell_type": "code",
   "execution_count": 5,
   "id": "89fdd995",
   "metadata": {},
   "outputs": [
    {
     "name": "stdout",
     "output_type": "stream",
     "text": [
      "['WEGE3', 'PETR3', 'PCAR3']\n"
     ]
    }
   ],
   "source": [
    "nova_lista_codigos = [ticker for ticker in lista_codigos_negociacao if ticker[-1] == '3']\n",
    "\n",
    "print(nova_lista_codigos)"
   ]
  },
  {
   "cell_type": "markdown",
   "id": "09da810e",
   "metadata": {},
   "source": [
    "# Estrutura\n",
    "\n",
    "Ação -> for loop -> condição (se necessário)"
   ]
  },
  {
   "cell_type": "code",
   "execution_count": 8,
   "id": "60dcbf9e",
   "metadata": {},
   "outputs": [
    {
     "name": "stdout",
     "output_type": "stream",
     "text": [
      "['wege3', 'petr3', 'pcar3']\n",
      "['wege3', 'petr4', 'petr3', 'pcar3', 'alpa4']\n"
     ]
    }
   ],
   "source": [
    "# Como deixar todos os códigos em letra minúscula?\n",
    "\n",
    "minusculo_on = [ticker.lower() for ticker in lista_codigos_negociacao if ticker[-1] == '3']\n",
    "minusculo_todos = [ticker.lower() for ticker in lista_codigos_negociacao]\n",
    "\n",
    "print(minusculo_on)\n",
    "print(minusculo_todos)\n",
    "\n",
    "# Use com sabedoria sempre que você precisar de uma lista a partir de um outro objeto,\n",
    "# que pode ou não ser uma lista."
   ]
  },
  {
   "cell_type": "code",
   "execution_count": 11,
   "id": "88bac8a3",
   "metadata": {},
   "outputs": [
    {
     "name": "stdout",
     "output_type": "stream",
     "text": [
      "['PETR4', 'PETR3', 'ALPA4']\n"
     ]
    }
   ],
   "source": [
    "# filter é uma opção para filtrar listas\n",
    "\n",
    "lista_codigos_negociacao = ['WEGE3','PETR4','PETR3','PCAR3','ALPA4']\n",
    "lista_restrita = ['WEGE3','PCAR3']\n",
    "\n",
    "nova_lista_codigos = list(filter(lambda ticker: ticker not in lista_restrita, lista_codigos_negociacao))\n",
    "\n",
    "print(nova_lista_codigos)"
   ]
  },
  {
   "cell_type": "code",
   "execution_count": 12,
   "id": "cda4e78c",
   "metadata": {},
   "outputs": [
    {
     "name": "stdout",
     "output_type": "stream",
     "text": [
      "['9', '8', '3', '4']\n"
     ]
    }
   ],
   "source": [
    "# Comando map serve para aplicar alguma função a todos os elementos da lista\n",
    "\n",
    "lista_numeros = [9, 8,3,4]\n",
    "\n",
    "# Converter todos os numeros para string\n",
    "\n",
    "lista_string_numeros = list(map(lambda x: str(x), lista_numeros))\n",
    "\n",
    "print(lista_string_numeros)"
   ]
  },
  {
   "cell_type": "code",
   "execution_count": 15,
   "id": "35cbd416",
   "metadata": {},
   "outputs": [
    {
     "name": "stdout",
     "output_type": "stream",
     "text": [
      "[11, 10, 5, 6]\n"
     ]
    }
   ],
   "source": [
    "# somar dois a todos os números\n",
    "\n",
    "lista_numeros = [9,8,3,4]\n",
    "\n",
    "lista_somar_dois = list(map(lambda x: x + 2, lista_numeros))\n",
    "\n",
    "print(lista_somar_dois)\n"
   ]
  },
  {
   "cell_type": "markdown",
   "id": "71209b0b",
   "metadata": {},
   "source": [
    "# Desafios\n",
    "\n",
    "- Exercício 25: Crie um programa que filtre a lista [2,4,5,6,10] apenas para números acima de 5.\n",
    "\n",
    "- Exercício 26: Crie um programa que converta a lista [2,4,5,6,10] para tipo float.\n",
    "\n",
    "- Exercício 27: Crie um programa que selecione na lista ['WEGE3','PETR4','PETR3','PCAR3','ALPA4'] todos os ticker que começam com P."
   ]
  },
  {
   "cell_type": "code",
   "execution_count": 18,
   "id": "87671280",
   "metadata": {},
   "outputs": [
    {
     "name": "stdout",
     "output_type": "stream",
     "text": [
      "[6, 10]\n"
     ]
    }
   ],
   "source": [
    "# Exercício 25:\n",
    "\n",
    "lista_original = [2,4,5,6,10]\n",
    "\n",
    "nova_lista_filtrada = list(filter(lambda x: x > 5, lista_original))\n",
    "\n",
    "print(nova_lista_filtrada)"
   ]
  },
  {
   "cell_type": "code",
   "execution_count": 19,
   "id": "41faab7a",
   "metadata": {},
   "outputs": [
    {
     "name": "stdout",
     "output_type": "stream",
     "text": [
      "[2.0, 4.0, 5.0, 6.0, 10.0]\n"
     ]
    }
   ],
   "source": [
    "# Exercício 26:\n",
    "\n",
    "lista_original = [2,4,5,6,10]\n",
    "\n",
    "nova_lista_convertida = list(map(lambda x: float(x), lista_original))\n",
    "\n",
    "print(nova_lista_convertida)"
   ]
  },
  {
   "cell_type": "code",
   "execution_count": 21,
   "id": "c90881ff",
   "metadata": {},
   "outputs": [
    {
     "name": "stdout",
     "output_type": "stream",
     "text": [
      "['PETR4', 'PETR3', 'PCAR3']\n"
     ]
    }
   ],
   "source": [
    "# Exercício 27:\n",
    "\n",
    "lista_acoes = ['WEGE3','PETR4','PETR3','PCAR3','ALPA4']\n",
    "\n",
    "lista_acoes_comecadas_com_p = [ticker_p for ticker_p in lista_acoes if ticker_p[0] == 'P']\n",
    "\n",
    "print(lista_acoes_comecadas_com_p)"
   ]
  },
  {
   "cell_type": "code",
   "execution_count": null,
   "id": "746a9add",
   "metadata": {},
   "outputs": [],
   "source": []
  }
 ],
 "metadata": {
  "kernelspec": {
   "display_name": "Python 3 (ipykernel)",
   "language": "python",
   "name": "python3"
  },
  "language_info": {
   "codemirror_mode": {
    "name": "ipython",
    "version": 3
   },
   "file_extension": ".py",
   "mimetype": "text/x-python",
   "name": "python",
   "nbconvert_exporter": "python",
   "pygments_lexer": "ipython3",
   "version": "3.9.13"
  }
 },
 "nbformat": 4,
 "nbformat_minor": 5
}
