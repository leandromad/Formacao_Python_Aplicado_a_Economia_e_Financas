{
 "cells": [
  {
   "cell_type": "markdown",
   "id": "6851d701",
   "metadata": {},
   "source": [
    "# Input: Como um usuário pode colocar dados dentro do programa?"
   ]
  },
  {
   "cell_type": "code",
   "execution_count": 1,
   "id": "25072a56",
   "metadata": {},
   "outputs": [
    {
     "name": "stdout",
     "output_type": "stream",
     "text": [
      "Digite seu time de coração: São Paulo\n",
      "São Paulo é o maior time do mundo!\n"
     ]
    }
   ],
   "source": [
    "time = input('Digite seu time de coração: ')\n",
    "\n",
    "print(f'{time} é o maior time do mundo!')"
   ]
  },
  {
   "cell_type": "code",
   "execution_count": 5,
   "id": "a2bed4b2",
   "metadata": {},
   "outputs": [
    {
     "name": "stdout",
     "output_type": "stream",
     "text": [
      "Digite um número inteiro: 5\n",
      "7\n"
     ]
    }
   ],
   "source": [
    "# Realizando contas com inputs\n",
    "\n",
    "\n",
    "# Por definição inputs são strings\n",
    "numero_digitado = int(input('Digite um número inteiro: '))\n",
    "\n",
    "numero_final = numero_digitado + 2\n",
    "\n",
    "print(numero_final)"
   ]
  },
  {
   "cell_type": "markdown",
   "id": "a5a0875d",
   "metadata": {},
   "source": [
    "# Desafios\n",
    "\n",
    "- Exercício 5: Recrie o programa da pessoa mais rica do mundo, só que agora ao invés de ter uma variável dentro do código, a pessoa é um input\n",
    "- Exercício 6: Crie um programa que devolva o input digitado somado ao valor 3"
   ]
  },
  {
   "cell_type": "code",
   "execution_count": 6,
   "id": "0fd3f864",
   "metadata": {},
   "outputs": [
    {
     "name": "stdout",
     "output_type": "stream",
     "text": [
      "Digite aqui o nome da pessoa mais rica do mundo: Manoel\n",
      "Manoel é a pessoa mais rica do mundo\n"
     ]
    }
   ],
   "source": [
    "# Exercício 5\n",
    "\n",
    "nome = input('Digite aqui o nome da pessoa mais rica do mundo: ')\n",
    "print(f'{nome} é a pessoa mais rica do mundo')"
   ]
  },
  {
   "cell_type": "code",
   "execution_count": 7,
   "id": "79a8faea",
   "metadata": {},
   "outputs": [
    {
     "name": "stdout",
     "output_type": "stream",
     "text": [
      "Digite um número: 6\n",
      "A soma do número 6 com 3 é igual a 9\n"
     ]
    }
   ],
   "source": [
    "# Exercício 6\n",
    "\n",
    "numero = int(input(\"Digite um número: \"))\n",
    "soma = numero + 3\n",
    "print(f'A soma do número {numero} com 3 é igual a {soma}')"
   ]
  },
  {
   "cell_type": "code",
   "execution_count": null,
   "id": "46534f6e",
   "metadata": {},
   "outputs": [],
   "source": []
  }
 ],
 "metadata": {
  "kernelspec": {
   "display_name": "Python 3 (ipykernel)",
   "language": "python",
   "name": "python3"
  },
  "language_info": {
   "codemirror_mode": {
    "name": "ipython",
    "version": 3
   },
   "file_extension": ".py",
   "mimetype": "text/x-python",
   "name": "python",
   "nbconvert_exporter": "python",
   "pygments_lexer": "ipython3",
   "version": "3.9.13"
  }
 },
 "nbformat": 4,
 "nbformat_minor": 5
}
