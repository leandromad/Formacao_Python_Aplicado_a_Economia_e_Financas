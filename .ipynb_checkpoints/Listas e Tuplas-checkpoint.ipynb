{
 "cells": [
  {
   "cell_type": "code",
   "execution_count": 1,
   "id": "b607a3c5",
   "metadata": {},
   "outputs": [
    {
     "name": "stdout",
     "output_type": "stream",
     "text": [
      "['Weg', 'Raia Drogasil', 'Vale', 'Lojas Renner']\n"
     ]
    }
   ],
   "source": [
    "# Como criar uma lista\n",
    "\n",
    "lista_base = ['Weg','Raia Drogasil', 'Vale','Lojas Renner']\n",
    "lista_base = list(['Weg','Raia Drogasil','Vale','Lojas Renner'])\n",
    "\n",
    "print(lista_base)"
   ]
  },
  {
   "cell_type": "code",
   "execution_count": 3,
   "id": "12072acb",
   "metadata": {},
   "outputs": [],
   "source": [
    "lista_vazia = []\n",
    "lista_tipos_diferentwes = ['Flamengo',8,'Campeonatos Brasileiros']"
   ]
  },
  {
   "cell_type": "code",
   "execution_count": 7,
   "id": "d2d8c99b",
   "metadata": {},
   "outputs": [
    {
     "name": "stdout",
     "output_type": "stream",
     "text": [
      "1 2 3 \n",
      "4 5 6 \n",
      "7 8 9 \n"
     ]
    }
   ],
   "source": [
    "lista_dentro_de_lista = [[1,2,3],[4,5,6],[7,8,9]] # Matriz 3 x 3\n",
    "\n",
    "for lista in lista_dentro_de_lista:\n",
    "    for item in lista:\n",
    "        print(item, end=' ')\n",
    "    print()"
   ]
  },
  {
   "cell_type": "markdown",
   "id": "95f6fc9c",
   "metadata": {},
   "source": [
    "# Manipulação de Listas"
   ]
  },
  {
   "cell_type": "code",
   "execution_count": 8,
   "id": "31d988fc",
   "metadata": {},
   "outputs": [
    {
     "name": "stdout",
     "output_type": "stream",
     "text": [
      "['compra tudo', 'vende um pouco', 'vende sua casa para comprar', 'comprar devagar', 'vende rápido ou vai quebrar', 'compra mais']\n"
     ]
    }
   ],
   "source": [
    "# Adicionando novos itens a lista (no final)\n",
    "\n",
    "lista_sinais = []\n",
    "\n",
    "lista_sinais.append('compra tudo')\n",
    "lista_sinais.append('vende um pouco')\n",
    "lista_sinais.append('vende sua casa para comprar')\n",
    "lista_sinais.append('comprar devagar')\n",
    "lista_sinais.append('vende rápido ou vai quebrar')\n",
    "lista_sinais.append('compra mais')\n",
    "\n",
    "print(lista_sinais)"
   ]
  },
  {
   "cell_type": "code",
   "execution_count": 9,
   "id": "41607dd3",
   "metadata": {},
   "outputs": [
    {
     "name": "stdout",
     "output_type": "stream",
     "text": [
      "compra tudo\n",
      "vende um pouco\n",
      "compra mais\n",
      "[1, 2, 3]\n",
      "1\n"
     ]
    }
   ],
   "source": [
    "# Selecionando elementos na lista\n",
    "\n",
    "print(lista_sinais[0])\n",
    "print(lista_sinais[1])\n",
    "print(lista_sinais[-1])\n",
    "\n",
    "print(lista_dentro_de_lista[0])\n",
    "print(lista_dentro_de_lista[0][0])"
   ]
  },
  {
   "cell_type": "code",
   "execution_count": 11,
   "id": "3acd7481",
   "metadata": {},
   "outputs": [
    {
     "name": "stdout",
     "output_type": "stream",
     "text": [
      "['compra tudo', 'vende um pouco']\n",
      "['vende um pouco', 'vende sua casa para comprar', 'comprar devagar', 'vende rápido ou vai quebrar', 'compra mais']\n",
      "['compra tudo', 'vende um pouco', 'vende sua casa para comprar']\n",
      "['vende rápido ou vai quebrar', 'compra mais']\n"
     ]
    }
   ],
   "source": [
    "# Selecionando vários elementos\n",
    "\n",
    "print(lista_sinais[0:2])\n",
    "print(lista_sinais[1:])\n",
    "print(lista_sinais[:3])\n",
    "print(lista_sinais[-2:])\n",
    "\n"
   ]
  },
  {
   "cell_type": "code",
   "execution_count": 12,
   "id": "ca0b0750",
   "metadata": {},
   "outputs": [
    {
     "name": "stdout",
     "output_type": "stream",
     "text": [
      "['vende', 'vende um pouco', 'vende sua casa para comprar', 'comprar devagar', 'vende rápido ou vai quebrar', 'compra mais']\n"
     ]
    }
   ],
   "source": [
    "# Alterando elementos \n",
    "\n",
    "lista_sinais[0] = 'vende'\n",
    "\n",
    "print(lista_sinais)"
   ]
  },
  {
   "cell_type": "code",
   "execution_count": 13,
   "id": "9ec65556",
   "metadata": {},
   "outputs": [
    {
     "name": "stdout",
     "output_type": "stream",
     "text": [
      "['vende', 'vende um pouco', 'compra até acabar o caixa', 'vende sua casa para comprar', 'comprar devagar', 'vende rápido ou vai quebrar', 'compra mais']\n"
     ]
    }
   ],
   "source": [
    "# Inserindo elementos em uma posição escolhida\n",
    "\n",
    "lista_sinais.insert(2, 'compra até acabar o caixa')\n",
    "\n",
    "print(lista_sinais)\n",
    "\n"
   ]
  },
  {
   "cell_type": "code",
   "execution_count": 14,
   "id": "6077ae44",
   "metadata": {},
   "outputs": [
    {
     "name": "stdout",
     "output_type": "stream",
     "text": [
      "['vende', 'vende um pouco', 'vende sua casa para comprar', 'comprar devagar', 'vende rápido ou vai quebrar', 'compra mais']\n"
     ]
    }
   ],
   "source": [
    "# Remover elementos da lista\n",
    "\n",
    "lista_sinais.remove('compra até acabar o caixa')\n",
    "\n",
    "print(lista_sinais)"
   ]
  },
  {
   "cell_type": "code",
   "execution_count": 15,
   "id": "884d19ac",
   "metadata": {},
   "outputs": [
    {
     "name": "stdout",
     "output_type": "stream",
     "text": [
      "['vende um pouco', 'vende sua casa para comprar', 'comprar devagar', 'vende rápido ou vai quebrar', 'compra mais']\n"
     ]
    }
   ],
   "source": [
    "# Remove de uma posição específica\n",
    "\n",
    "del lista_sinais[0]\n",
    "\n",
    "print(lista_sinais)"
   ]
  },
  {
   "cell_type": "code",
   "execution_count": 17,
   "id": "d6aaa43f",
   "metadata": {},
   "outputs": [
    {
     "name": "stdout",
     "output_type": "stream",
     "text": [
      "False True\n"
     ]
    }
   ],
   "source": [
    "# Verifica se um elemento está na lista\n",
    "\n",
    "verificando = 'compra tudo' in lista_sinais\n",
    "\n",
    "verificando2 = 'compra tudo' not in lista_sinais\n",
    "\n",
    "print(verificando, verificando2)"
   ]
  },
  {
   "cell_type": "code",
   "execution_count": 18,
   "id": "4cdae13c",
   "metadata": {},
   "outputs": [
    {
     "name": "stdout",
     "output_type": "stream",
     "text": [
      "[1, 2, 3, 4, 5, 6]\n"
     ]
    }
   ],
   "source": [
    "# Junção de listas\n",
    "\n",
    "lista_1 = [1, 2,3]\n",
    "lista_2 = [4,5,6]\n",
    "\n",
    "lista_final = lista_1 + lista_2 # Listas não são vetores! isso é feito através do pacote numpy\n",
    "\n",
    "print(lista_final)"
   ]
  },
  {
   "cell_type": "code",
   "execution_count": 20,
   "id": "5e5ddc37",
   "metadata": {},
   "outputs": [
    {
     "name": "stdout",
     "output_type": "stream",
     "text": [
      "[1, 23, 45, 56, 75]\n",
      "[75, 56, 45, 23, 1]\n"
     ]
    }
   ],
   "source": [
    "# Ordenação em lista\n",
    "\n",
    "lista_desordenada = [56, 45, 1, 75, 23]\n",
    "\n",
    "lista_ordenada_crescente = sorted(lista_desordenada)\n",
    "\n",
    "print(lista_ordenada_crescente)\n",
    "\n",
    "lista_ordenada_decrescente = sorted(lista_desordenada, reverse=True)\n",
    "\n",
    "print(lista_ordenada_decrescente)"
   ]
  },
  {
   "cell_type": "code",
   "execution_count": 21,
   "id": "d35e419e",
   "metadata": {},
   "outputs": [
    {
     "name": "stdout",
     "output_type": "stream",
     "text": [
      "5\n"
     ]
    }
   ],
   "source": [
    "# Extraindo tamanho de uma lista\n",
    "\n",
    "print(len(lista_desordenada))"
   ]
  },
  {
   "cell_type": "code",
   "execution_count": 22,
   "id": "61124fe1",
   "metadata": {},
   "outputs": [
    {
     "name": "stdout",
     "output_type": "stream",
     "text": [
      "75\n",
      "1\n",
      "40.0\n"
     ]
    }
   ],
   "source": [
    "# Extraindo valores máximos, mínimos e média de uma lista\n",
    "\n",
    "print(max(lista_desordenada))\n",
    "\n",
    "print(min(lista_desordenada))\n",
    "\n",
    "print(sum(lista_desordenada)/len(lista_desordenada))"
   ]
  },
  {
   "cell_type": "markdown",
   "id": "5a24ecb4",
   "metadata": {},
   "source": [
    "# Tuplas"
   ]
  },
  {
   "cell_type": "code",
   "execution_count": 26,
   "id": "f60156a0",
   "metadata": {},
   "outputs": [
    {
     "name": "stdout",
     "output_type": "stream",
     "text": [
      "3\n",
      "0\n"
     ]
    }
   ],
   "source": [
    "# Como criar Tupla\n",
    "\n",
    "tupla = (2,3,5,2,2)\n",
    "tupla = tuple((2,3,5,2,2))\n",
    "\n",
    "print(tupla.count(2))\n",
    "print(tupla.index(2))"
   ]
  },
  {
   "cell_type": "code",
   "execution_count": 27,
   "id": "da5fd81b",
   "metadata": {},
   "outputs": [
    {
     "name": "stdout",
     "output_type": "stream",
     "text": [
      "5\n"
     ]
    }
   ],
   "source": [
    "# Medindo o tamanho de uma tupla\n",
    "print(len(tupla))\n",
    "\n"
   ]
  },
  {
   "cell_type": "markdown",
   "id": "23cf3d97",
   "metadata": {},
   "source": [
    "# Desafios\n",
    "\n",
    "- Exercício 11: Peça ao usuário digitar o ticker de 4 empresas no terminal. Escolha, dentre as empresas digitadas, uma empresa pra emitir a recomendação de compra e mostre uma mensagem na tela dizendo sua recomendação\n",
    "\n",
    "- Exercício 12: Peça ao usuário digitar o preço/lucro de 5 empresas. Devolva uma mensagem dizendo quais são os dois menores P/L da lista."
   ]
  },
  {
   "cell_type": "code",
   "execution_count": 36,
   "id": "57bfeb1b",
   "metadata": {},
   "outputs": [
    {
     "name": "stdout",
     "output_type": "stream",
     "text": [
      "Digite o nome da empresa 1 \n",
      "Americanas\n",
      "Digite o nome da empresa 2: \n",
      "Vale\n",
      "Digite o nome da empresa 3: \n",
      "Petrobras\n",
      "Digite o nome da empresa 4: \n",
      "Vivo\n",
      "\n",
      "Nossa recomendação de investimento é a empresa Petrobras.\n"
     ]
    }
   ],
   "source": [
    "# Exercício 11\n",
    "from random import choice\n",
    "lista_empresa = []\n",
    "empresa = input('Digite o nome da empresa 1 \\n')\n",
    "lista_empresa.append(empresa)\n",
    "while len(lista_empresa) < 4:\n",
    "    empresa = input(f'Digite o nome da empresa {len(lista_empresa)+1}: \\n')\n",
    "    lista_empresa.append(empresa)\n",
    "empresa_escolhida = choice(lista_empresa)\n",
    "print(f\"\\nNossa recomendação de investimento é a empresa {empresa_escolhida}.\")"
   ]
  },
  {
   "cell_type": "code",
   "execution_count": 48,
   "id": "9d7134b4",
   "metadata": {},
   "outputs": [
    {
     "name": "stdout",
     "output_type": "stream",
     "text": [
      "Digite o valor do Preço/Lucro da empresa 1: 10.50\n",
      "Digite o valor do Preço/Lucro da empresa 2: 20.11\n",
      "Digite o valor do Preço/Lucro da empresa 3: 3.40\n",
      "Digite o valor do Preço/Lucro da empresa 4: 2.20\n",
      "Digite o valor do Preço/Lucro da empresa 5: 6.60\n",
      "[2.2, 3.4, 6.6, 10.5, 20.11]\n",
      "O menor P/L é 2.2 e o segundo menor P/L é 3.4\n"
     ]
    }
   ],
   "source": [
    "# Exercício 12\n",
    "lista_preco_lucro = []\n",
    "preco_lucro = float(input('Digite o valor do Preço/Lucro da empresa 1: '))\n",
    "lista_preco_lucro.append(preco_lucro)\n",
    "while len(lista_preco_lucro) < 5:\n",
    "    preco_lucro = float(input(f'Digite o valor do Preço/Lucro da empresa {len(lista_preco_lucro)+1}: '))\n",
    "    lista_preco_lucro.append(preco_lucro)\n",
    "lista_crescente = sorted(lista_preco_lucro)\n",
    "print(lista_crescente)\n",
    "\n",
    "print(f'O menor P/L é {lista_crescente[0]} e o segundo menor P/L é {lista_crescente[1]}')"
   ]
  },
  {
   "cell_type": "code",
   "execution_count": null,
   "id": "a13ffa01",
   "metadata": {},
   "outputs": [],
   "source": []
  }
 ],
 "metadata": {
  "kernelspec": {
   "display_name": "Python 3 (ipykernel)",
   "language": "python",
   "name": "python3"
  },
  "language_info": {
   "codemirror_mode": {
    "name": "ipython",
    "version": 3
   },
   "file_extension": ".py",
   "mimetype": "text/x-python",
   "name": "python",
   "nbconvert_exporter": "python",
   "pygments_lexer": "ipython3",
   "version": "3.9.13"
  }
 },
 "nbformat": 4,
 "nbformat_minor": 5
}
