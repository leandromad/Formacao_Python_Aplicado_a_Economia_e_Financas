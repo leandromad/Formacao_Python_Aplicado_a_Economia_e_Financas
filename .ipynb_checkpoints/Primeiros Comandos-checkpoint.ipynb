{
 "cells": [
  {
   "cell_type": "markdown",
   "id": "73739b41",
   "metadata": {},
   "source": [
    "# Primeiros Comandos no Python\n",
    "\n",
    "Iremos falar sobre o que existe de mais básico. Como atribuir objetos no python, como printar algo na tela e a diferença entre o igual e o igual duplo no pyhton"
   ]
  },
  {
   "cell_type": "code",
   "execution_count": 1,
   "id": "7f2e6ea9",
   "metadata": {},
   "outputs": [
    {
     "name": "stdout",
     "output_type": "stream",
     "text": [
      "Hello World\n"
     ]
    }
   ],
   "source": [
    "print(\"Hello World\")"
   ]
  },
  {
   "cell_type": "code",
   "execution_count": 2,
   "id": "c827ccc3",
   "metadata": {},
   "outputs": [],
   "source": [
    "# Podemos atribuir números ou strings a váriaveis\n",
    "\n",
    "a = 2\n",
    "b = 4\n",
    "codigo_py = 'O melhor curso de python Brasil' #string sempre com aspas duplas ou simples"
   ]
  },
  {
   "cell_type": "code",
   "execution_count": 3,
   "id": "fb038bfa",
   "metadata": {},
   "outputs": [
    {
     "name": "stdout",
     "output_type": "stream",
     "text": [
      "O melhor curso de python Brasil\n",
      "2\n",
      "4\n"
     ]
    }
   ],
   "source": [
    "# Podemos printar o que nós programamos\n",
    "\n",
    "print(codigo_py)\n",
    "print(a)\n",
    "print(b)"
   ]
  },
  {
   "cell_type": "code",
   "execution_count": 4,
   "id": "8ad99922",
   "metadata": {},
   "outputs": [
    {
     "name": "stdout",
     "output_type": "stream",
     "text": [
      "27\n"
     ]
    }
   ],
   "source": [
    "# A diferença entre = de equação e == de atribuir\n",
    "\n",
    "a = a + 25\n",
    "print(a)"
   ]
  },
  {
   "cell_type": "code",
   "execution_count": 6,
   "id": "4abd4077",
   "metadata": {},
   "outputs": [
    {
     "name": "stdout",
     "output_type": "stream",
     "text": [
      "True\n",
      "True\n",
      "True\n"
     ]
    }
   ],
   "source": [
    "# Qual é o '=' de igualdade no python?\n",
    "\n",
    "verificando_uma_condicao = b == 4\n",
    "\n",
    "print(verificando_uma_condicao)\n",
    "\n",
    "verificando_uma_codnicao = (b == 7)\n",
    "\n",
    "print(verificando_uma_condicao)\n",
    "\n",
    "flamengo = \"maior time do mundo\"\n",
    "\n",
    "verificando_uma_condicao = flamengo == \"maior time do mundo\"\n",
    "\n",
    "print(verificando_uma_condicao)"
   ]
  },
  {
   "cell_type": "markdown",
   "id": "33dff8b5",
   "metadata": {},
   "source": [
    "# Exercícios\n",
    "\n",
    "- Exercício 1: Crie uma variável que receba o nome de uma empresa da bolsa de valores e depois exiba o nome da empresa no terminal\n",
    "\n",
    "- Exercício 2: Crie um programa que atribua a variável petrobras ao texto \"estatal\" (não esqueça das aspas!) e depois crie duas variáveis de condição, igualando petrobras ao texto \"Privada\" e ao texto \"Estatal\". Printe as duas codnições na tela. O python possui sensibilidade de letras maiusculas, portanto, tome cuidado com isso!"
   ]
  },
  {
   "cell_type": "code",
   "execution_count": 7,
   "id": "62a30ccf",
   "metadata": {},
   "outputs": [
    {
     "name": "stdout",
     "output_type": "stream",
     "text": [
      "A empresa é WEG\n"
     ]
    }
   ],
   "source": [
    "# Exercício 1\n",
    "\n",
    "empresa = 'WEG'\n",
    "print(f\"A empresa é {empresa}\")"
   ]
  },
  {
   "cell_type": "code",
   "execution_count": 10,
   "id": "bbca75bd",
   "metadata": {},
   "outputs": [
    {
     "name": "stdout",
     "output_type": "stream",
     "text": [
      "Petrobras é Privada? False\n",
      "Petrobras é Estatal? True\n"
     ]
    }
   ],
   "source": [
    "# Exercício 2\n",
    "Petrobras = 'Estatal'\n",
    "print(f\"Petrobras é Privada? {Petrobras == 'Privada'}\")\n",
    "print(f\"Petrobras é Estatal? {Petrobras == 'Estatal'}\")"
   ]
  },
  {
   "cell_type": "code",
   "execution_count": null,
   "id": "e7d22bab",
   "metadata": {},
   "outputs": [],
   "source": []
  }
 ],
 "metadata": {
  "kernelspec": {
   "display_name": "Python 3 (ipykernel)",
   "language": "python",
   "name": "python3"
  },
  "language_info": {
   "codemirror_mode": {
    "name": "ipython",
    "version": 3
   },
   "file_extension": ".py",
   "mimetype": "text/x-python",
   "name": "python",
   "nbconvert_exporter": "python",
   "pygments_lexer": "ipython3",
   "version": "3.9.13"
  }
 },
 "nbformat": 4,
 "nbformat_minor": 5
}
