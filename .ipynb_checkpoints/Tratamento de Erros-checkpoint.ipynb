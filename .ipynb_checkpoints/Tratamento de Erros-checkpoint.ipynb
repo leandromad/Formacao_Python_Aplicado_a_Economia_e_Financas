{
 "cells": [
  {
   "cell_type": "code",
   "execution_count": 6,
   "id": "ee8ffbdc",
   "metadata": {},
   "outputs": [
    {
     "name": "stdout",
     "output_type": "stream",
     "text": [
      "Digite um número: 5\n",
      "Digite outro número: 10\n",
      "A divisão entre o 1º e o 2º número é 0.5\n"
     ]
    }
   ],
   "source": [
    "# calculadora\n",
    "\n",
    "numero1 = float(input(\"Digite um número: \"))\n",
    "numero2 = float(input(\"Digite outro número: \"))\n",
    "\n",
    "divisao = numero1/numero2\n",
    "\n",
    "print(f'A divisão entre o 1º e o 2º número é {divisao}')"
   ]
  },
  {
   "cell_type": "code",
   "execution_count": 10,
   "id": "584440f9",
   "metadata": {},
   "outputs": [
    {
     "name": "stdout",
     "output_type": "stream",
     "text": [
      "Digite um número: 10\n",
      "Digite outro número: a\n",
      "Ocorreu um erro com o tipo de dado digitado.\n",
      "Obrigado por participar!\n"
     ]
    }
   ],
   "source": [
    "# calculadora 2\n",
    "\n",
    "try:\n",
    "    \n",
    "    numero1 = float(input(\"Digite um número: \"))\n",
    "    numero2 = float(input(\"Digite outro número: \"))\n",
    "    \n",
    "    divisao = numero1/numero2\n",
    "    \n",
    "except ZeroDivisionError:\n",
    "        \n",
    "    print(\"Não é possível dividir um número por 0!\")\n",
    "        \n",
    "except ValueError:\n",
    "        \n",
    "    print(\"Ocorreu um erro com o tipo de dado digitado.\")\n",
    "        \n",
    "else: \n",
    "        \n",
    "    print(f'A divisão entre o 1º e o 2º número é {divisao}')\n",
    "        \n",
    "finally:\n",
    "        \n",
    "    print(\"Obrigado por participar!\")"
   ]
  },
  {
   "cell_type": "code",
   "execution_count": 12,
   "id": "2dade14f",
   "metadata": {},
   "outputs": [
    {
     "name": "stdout",
     "output_type": "stream",
     "text": [
      "Digite um número: 20\n",
      "Digite outro número: 0\n",
      "Ocorreu um erro do tipo <class 'ZeroDivisionError'>\n"
     ]
    }
   ],
   "source": [
    "# calculadora 3\n",
    "\n",
    "try:\n",
    "    \n",
    "    numero1 = float(input(\"Digite um número: \"))\n",
    "    numero2 = float(input(\"Digite outro número: \"))\n",
    "    \n",
    "    divisao = numero1/numero2\n",
    "    \n",
    "except Exception as erro:\n",
    "    \n",
    "    print(f\"Ocorreu um erro do tipo {erro.__class__}\")\n",
    "    \n",
    "    "
   ]
  },
  {
   "cell_type": "markdown",
   "id": "292d638e",
   "metadata": {},
   "source": [
    "# Desafios\n",
    "\n",
    "- Exercício 24: Crie um programa que receba dois dados: nome e idade. O programa deve parabenizar por estar participando do curso codigo.py e indicar que quando ele tiver a idade atual + 3 anos ele será muito bom em python. Além disso, o programa deve tratar erros caso sejam digitados dados estranhos no input."
   ]
  },
  {
   "cell_type": "code",
   "execution_count": 17,
   "id": "fed1eb2c",
   "metadata": {},
   "outputs": [
    {
     "name": "stdout",
     "output_type": "stream",
     "text": [
      "Qual é o seu nome? LEANDRO\n",
      "Olá Leandro, qual a sua idade? 22\n",
      "Parabéns por estar fazendo o curso código.py Leandro! quando você tiver 25 anos, você será um monstro no python!\n",
      "Siga para o próximo mundo para avançar no seu conhecimento em python!\n"
     ]
    }
   ],
   "source": [
    "# Exercício 24\n",
    "\n",
    "try:\n",
    "    \n",
    "    \n",
    "    nome = str(input(\"Qual é o seu nome? \")).title()\n",
    "    idade = int(input(f\"Olá {nome}, qual a sua idade? \"))\n",
    "    idade_mais_tres = idade + 3\n",
    "    \n",
    "    \n",
    "except ValueError:\n",
    "    \n",
    "    print(\"Ocorreu um problema com os dados digitados\")\n",
    "    \n",
    "else:\n",
    "    \n",
    "    print(f\"Parabéns por estar fazendo o curso código.py {nome}! quando você tiver {idade_mais_tres} anos, você será um monstro no python!\")\n",
    "    \n",
    "finally:\n",
    "    \n",
    "    print(\"Siga para o próximo mundo para avançar no seu conhecimento em python!\")"
   ]
  },
  {
   "cell_type": "code",
   "execution_count": null,
   "id": "9cb387b0",
   "metadata": {},
   "outputs": [],
   "source": []
  }
 ],
 "metadata": {
  "kernelspec": {
   "display_name": "Python 3 (ipykernel)",
   "language": "python",
   "name": "python3"
  },
  "language_info": {
   "codemirror_mode": {
    "name": "ipython",
    "version": 3
   },
   "file_extension": ".py",
   "mimetype": "text/x-python",
   "name": "python",
   "nbconvert_exporter": "python",
   "pygments_lexer": "ipython3",
   "version": "3.9.13"
  }
 },
 "nbformat": 4,
 "nbformat_minor": 5
}
