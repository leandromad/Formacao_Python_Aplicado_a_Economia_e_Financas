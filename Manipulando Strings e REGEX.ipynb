{
 "cells": [
  {
   "cell_type": "code",
   "execution_count": 1,
   "id": "e5bccddd",
   "metadata": {},
   "outputs": [],
   "source": [
    "import re"
   ]
  },
  {
   "cell_type": "code",
   "execution_count": 2,
   "id": "a8f29804",
   "metadata": {},
   "outputs": [],
   "source": [
    "texto = 'esse é o curso código.py'"
   ]
  },
  {
   "cell_type": "code",
   "execution_count": 3,
   "id": "e2cf986f",
   "metadata": {},
   "outputs": [
    {
     "name": "stdout",
     "output_type": "stream",
     "text": [
      "24\n"
     ]
    }
   ],
   "source": [
    "# Tamanho do texto\n",
    "\n",
    "print(len(texto))"
   ]
  },
  {
   "cell_type": "code",
   "execution_count": 4,
   "id": "c9de5233",
   "metadata": {},
   "outputs": [
    {
     "name": "stdout",
     "output_type": "stream",
     "text": [
      "esse é o curso código.py e eu sou um ótimo aluno!\n"
     ]
    }
   ],
   "source": [
    "# Juntando Strings\n",
    "\n",
    "print(texto + \" e eu sou um ótimo aluno!\")"
   ]
  },
  {
   "cell_type": "code",
   "execution_count": 5,
   "id": "cfc6dc3c",
   "metadata": {},
   "outputs": [
    {
     "name": "stdout",
     "output_type": "stream",
     "text": [
      "esse é o curso Código.py 2.0\n"
     ]
    }
   ],
   "source": [
    "# Substituindo Texto\n",
    "\n",
    "texto_novo = texto.replace(\"código.py\", \"Código.py 2.0\")\n",
    "print(texto_novo)"
   ]
  },
  {
   "cell_type": "code",
   "execution_count": 6,
   "id": "74afdf58",
   "metadata": {},
   "outputs": [
    {
     "name": "stdout",
     "output_type": "stream",
     "text": [
      "1\n"
     ]
    }
   ],
   "source": [
    "# Contagem\n",
    "\n",
    "print(texto.count('curso'))"
   ]
  },
  {
   "cell_type": "code",
   "execution_count": 10,
   "id": "347f3db2",
   "metadata": {},
   "outputs": [
    {
     "name": "stdout",
     "output_type": "stream",
     "text": [
      "False\n"
     ]
    }
   ],
   "source": [
    "# a string começa com \"curso?\"\n",
    "\n",
    "print(texto.startswith(\"curso\")) # Podemos usar para pegar todos os códigos de negociação de uma empresa"
   ]
  },
  {
   "cell_type": "code",
   "execution_count": 11,
   "id": "bc62266c",
   "metadata": {},
   "outputs": [
    {
     "name": "stdout",
     "output_type": "stream",
     "text": [
      "False\n"
     ]
    }
   ],
   "source": [
    "# A string termina com python?\n",
    "\n",
    "print(texto.endswith(\"python\")) # Podemos usar para achar um código de negociação ON ou PN"
   ]
  },
  {
   "cell_type": "code",
   "execution_count": 12,
   "id": "fce9365b",
   "metadata": {},
   "outputs": [
    {
     "name": "stdout",
     "output_type": "stream",
     "text": [
      "e\n",
      "esse\n",
      "y\n",
      " é o curso código.py\n"
     ]
    }
   ],
   "source": [
    "# Selecionando Strings\n",
    "\n",
    "print(texto[0])\n",
    "print(texto[0:4])\n",
    "print(texto[-1])\n",
    "print(texto[4:])"
   ]
  },
  {
   "cell_type": "code",
   "execution_count": 13,
   "id": "aa18be34",
   "metadata": {},
   "outputs": [
    {
     "name": "stdout",
     "output_type": "stream",
     "text": [
      "ESSE É O CURSO CÓDIGO.PY\n",
      "esse é o curso código.py\n",
      "Esse É O Curso Código.Py\n",
      "False\n",
      "True\n"
     ]
    }
   ],
   "source": [
    "# Letras maíusculas, mínusculas ou title\n",
    "\n",
    "print(texto.upper())\n",
    "print(texto.lower())\n",
    "print(texto.title())\n",
    "\n",
    "texto_1 = \"Python\"\n",
    "\n",
    "texto_2 = 'python'\n",
    "\n",
    "print(texto_1 == texto_2)\n",
    "print(texto_1 == texto_2.title())"
   ]
  },
  {
   "cell_type": "code",
   "execution_count": 14,
   "id": "73684509",
   "metadata": {},
   "outputs": [
    {
     "name": "stdout",
     "output_type": "stream",
     "text": [
      "['brennolima@gmail.com', 'lucasvgn@hotmail.com', 'leandropaulo@yahoo.com.br']\n"
     ]
    }
   ],
   "source": [
    "bloco_texto = ''' brenno brennolima@gmail.com lucas lucasvgn@hotmail.com\n",
    "leandro leandropaulo@yahoo.com.br'''\n",
    "\n",
    "padrao = r'[A-Z0-9._%+-]+@[A-Z0-9.-]+[A-Z]{2,4}'\n",
    "\n",
    "expressao_regular = re.compile(padrao, flags=re.IGNORECASE)\n",
    "\n",
    "print(expressao_regular.findall(bloco_texto))"
   ]
  },
  {
   "cell_type": "code",
   "execution_count": 15,
   "id": "02895131",
   "metadata": {},
   "outputs": [
    {
     "name": "stdout",
     "output_type": "stream",
     "text": [
      "Digite seu e-mail: leandro.tricolor63@hotmail.com\n",
      "Seu e-mail é valido\n"
     ]
    }
   ],
   "source": [
    "# Validar email\n",
    "\n",
    "email = str(input(\"Digite seu e-mail: \"))\n",
    "\n",
    "if re.fullmatch(expressao_regular, email):\n",
    "    print(\"Seu e-mail é valido\")\n",
    "    \n",
    "else:\n",
    "    print(\"E-mail inválido\")"
   ]
  },
  {
   "cell_type": "markdown",
   "id": "01faa842",
   "metadata": {},
   "source": [
    "# Desafios\n",
    "\n",
    "- Exercício 16: Crie um programa que leia o nome da empresa fornecida pelo usuário e retorne as seguintes informações:\n",
    "    - A primeira letra da empresa\n",
    "    - A última letra da empresa\n",
    "    - O tamanho da palavra que compõe o nome da empresa\n",
    "    - O nome da empresa em letra maiúscula\n",
    "    - O nome da empresa com a primeira letra maiúscula\n",
    "    - O nome da empresa com as 2 primeiras letras da empresa substituido por \"gol\"\n",
    "\n",
    "- Exercício 17: Crie um programa que faça a validação de telefone fixo ou celular. O usuário deve digitar seu telefone, com DDD, seja ele fixo ou móvel e receber uma mensagem de telefone válido ou inválido."
   ]
  },
  {
   "cell_type": "code",
   "execution_count": null,
   "id": "fe182672",
   "metadata": {},
   "outputs": [],
   "source": []
  }
 ],
 "metadata": {
  "kernelspec": {
   "display_name": "Python 3 (ipykernel)",
   "language": "python",
   "name": "python3"
  },
  "language_info": {
   "codemirror_mode": {
    "name": "ipython",
    "version": 3
   },
   "file_extension": ".py",
   "mimetype": "text/x-python",
   "name": "python",
   "nbconvert_exporter": "python",
   "pygments_lexer": "ipython3",
   "version": "3.9.13"
  }
 },
 "nbformat": 4,
 "nbformat_minor": 5
}
