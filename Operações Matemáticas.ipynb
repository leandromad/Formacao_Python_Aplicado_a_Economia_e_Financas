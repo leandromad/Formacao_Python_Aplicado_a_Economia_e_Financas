{
 "cells": [
  {
   "cell_type": "code",
   "execution_count": 1,
   "id": "c39af8e9",
   "metadata": {},
   "outputs": [
    {
     "name": "stdout",
     "output_type": "stream",
     "text": [
      "Digite um número inteiro qualquer: 4\n",
      "Digite um número inteiro qualquer: 2\n",
      "\n",
      " A soma dos dois números é 6\n",
      "\n",
      "A multiplicação é 8\n",
      "\n",
      "A divisão é 2.0\n",
      "\n",
      "O primeiro número elevado ao segundo chega ao resultado de 16\n",
      "\n",
      "A raiz quadrada do 1º número é 2.0 e do segundo número é 1.4142135623730951\n",
      "\n",
      "A divisão inteira é 2 e o resto é 0\n",
      "\n"
     ]
    }
   ],
   "source": [
    "numero = int(input(\"Digite um número inteiro qualquer: \"))\n",
    "numero2 = int(input(\"Digite um número inteiro qualquer: \"))\n",
    "\n",
    "soma = numero + numero2\n",
    "multiplicar = numero * numero2\n",
    "dividir = numero / numero2\n",
    "elevar = numero ** numero2\n",
    "raiz = numero ** (1/2)\n",
    "raiz2 = numero2 ** (1/2)\n",
    "dividir_inteiro = numero // numero2\n",
    "resto = numero % numero2\n",
    "\n",
    "print(\"\")\n",
    "print(f''' A soma dos dois números é {soma}\\n\n",
    "A multiplicação é {multiplicar}\\n\n",
    "A divisão é {dividir}\\n\n",
    "O primeiro número elevado ao segundo chega ao resultado de {elevar}\\n\n",
    "A raiz quadrada do 1º número é {raiz} e do segundo número é {raiz2}\\n\n",
    "A divisão inteira é {dividir_inteiro} e o resto é {resto}\n",
    "''')"
   ]
  },
  {
   "cell_type": "code",
   "execution_count": 2,
   "id": "d78f2108",
   "metadata": {},
   "outputs": [
    {
     "name": "stdout",
     "output_type": "stream",
     "text": [
      "--------------------\n"
     ]
    }
   ],
   "source": [
    "# Multiplicar strings\n",
    "\n",
    "string = '-'\n",
    "string_multiplicada = string * 20\n",
    "print(string_multiplicada)"
   ]
  },
  {
   "cell_type": "markdown",
   "id": "ffa9116a",
   "metadata": {},
   "source": [
    "# Desafios\n",
    "\n",
    "- Exercício 7: Crie um algoritmo que receba uma cotação (float), um ticker e mostre na tela o valor da empresa caso a empresa suba 100% ou caia 50%\n",
    "\n",
    "- Exercício 8: Crie um programa que receba um input de número e retorne as seguintes características do número para o usuário\n",
    "    - O dobro\n",
    "    - A raiz quadrada\n",
    "    - Elevado ao quadrado\n",
    "    - Dividido por dois\n",
    "    - Seu antecessor e seu sucessor"
   ]
  },
  {
   "cell_type": "code",
   "execution_count": 1,
   "id": "23e3868e",
   "metadata": {},
   "outputs": [
    {
     "name": "stdout",
     "output_type": "stream",
     "text": [
      "Insira o valor da cotação: 4.56\n",
      "Caso o valor da ação da empresa se valorize 100% seu valor será de 9.12. Caso o valor da ação caia 50% seu valor será de 2.28\n"
     ]
    }
   ],
   "source": [
    "# Exercício 7:\n",
    "\n",
    "cotacao = float(input(\"Insira o valor da cotação: \"))\n",
    "metade_cotacao = cotacao / 2\n",
    "dobro_cotacao = cotacao * 2\n",
    "print(f\"Caso o valor da ação da empresa se valorize 100% seu valor será de {dobro_cotacao}. Caso o valor da ação caia 50% seu valor será de {metade_cotacao}\")"
   ]
  },
  {
   "cell_type": "code",
   "execution_count": 2,
   "id": "4ec5a1ec",
   "metadata": {},
   "outputs": [
    {
     "name": "stdout",
     "output_type": "stream",
     "text": [
      "Insira um número: 2\n",
      "O dobro do número é 4\n",
      "\n",
      "A raiz quadrada do número é 1.0\n",
      "\n",
      "O número elevado ao quadrado é igual a 4\n",
      "\n",
      "A metade do número é 1.0\n",
      "\n",
      "O antecessor do número é 1 e seu sucessor é 3\n",
      "\n",
      "\n",
      "\n"
     ]
    }
   ],
   "source": [
    "# Exercício 8:\n",
    "\n",
    "numero = int(input(\"Insira um número: \"))\n",
    "dobro = numero * 2\n",
    "raiz_quadrada = numero * (1/2)\n",
    "elevado_ao_quadrado = numero ** 2\n",
    "metade = numero / 2\n",
    "antecessor = numero - 1\n",
    "sucessor = numero + 1\n",
    "\n",
    "print (f'''O dobro do número é {dobro}\\n\n",
    "A raiz quadrada do número é {raiz_quadrada}\\n\n",
    "O número elevado ao quadrado é igual a {elevado_ao_quadrado}\\n\n",
    "A metade do número é {metade}\\n\n",
    "O antecessor do número é {antecessor} e seu sucessor é {sucessor}\n",
    "\n",
    "\n",
    "''')"
   ]
  },
  {
   "cell_type": "code",
   "execution_count": null,
   "id": "fb2edf95",
   "metadata": {},
   "outputs": [],
   "source": []
  }
 ],
 "metadata": {
  "kernelspec": {
   "display_name": "Python 3 (ipykernel)",
   "language": "python",
   "name": "python3"
  },
  "language_info": {
   "codemirror_mode": {
    "name": "ipython",
    "version": 3
   },
   "file_extension": ".py",
   "mimetype": "text/x-python",
   "name": "python",
   "nbconvert_exporter": "python",
   "pygments_lexer": "ipython3",
   "version": "3.9.13"
  }
 },
 "nbformat": 4,
 "nbformat_minor": 5
}
