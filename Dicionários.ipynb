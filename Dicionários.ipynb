{
 "cells": [
  {
   "cell_type": "code",
   "execution_count": 1,
   "id": "5e47ce92",
   "metadata": {},
   "outputs": [],
   "source": [
    "# Criar Dicionários\n",
    "\n",
    "dicionario_vazio = {}\n",
    "\n",
    "dicionario_povoado = dict({'nome': 'Leandro','sobrenome': 'Madureira'})\n",
    "\n",
    "dicionario_numerico = {1: 'Leandro', 2: 'Brenno', 3: 'Lucas'}\n",
    "\n",
    "dicionario_com_listas = {'empresas_novo_mercado':['Weg','Renner','Vale'],\n",
    "                        'empresas_em_outros_segmentos': ['Petrobras','Alpargatas']}\n",
    "\n",
    "dicionario_empresas_na_carteira = {True: ['Pão de Açucar','Weg'],\n",
    "                                  False: ['Lojas Renner','Guararapes']}"
   ]
  },
  {
   "cell_type": "code",
   "execution_count": 3,
   "id": "d15259f7",
   "metadata": {},
   "outputs": [
    {
     "name": "stdout",
     "output_type": "stream",
     "text": [
      "Brenno\n",
      "Brenno\n",
      "Leandro\n",
      "['Weg', 'Renner', 'Vale']\n",
      "Weg\n"
     ]
    }
   ],
   "source": [
    "# Pegando itens dentro dos dicionários\n",
    "\n",
    "print(dicionario_numerico[2])\n",
    "\n",
    "print(dicionario_numerico.get(2))\n",
    "\n",
    "print(dicionario_povoado.get('nome'))\n",
    "\n",
    "print(dicionario_com_listas['empresas_novo_mercado'])\n",
    "\n",
    "print(dicionario_com_listas['empresas_novo_mercado'][0])\n"
   ]
  },
  {
   "cell_type": "code",
   "execution_count": 4,
   "id": "705153c3",
   "metadata": {},
   "outputs": [
    {
     "name": "stdout",
     "output_type": "stream",
     "text": [
      "{'Curso': 'Codigo.py', 'Galaxia': 2, 'Mundo': 13}\n"
     ]
    }
   ],
   "source": [
    "# Adicionar elementos em um dicionário\n",
    "\n",
    "dicionario_vazio['Curso'] = 'Codigo.py'\n",
    "\n",
    "dicionario_vazio.update({'Galaxia': 2, 'Mundo': 13})\n",
    "\n",
    "print(dicionario_vazio)\n",
    "\n"
   ]
  },
  {
   "cell_type": "code",
   "execution_count": 5,
   "id": "9e71c40a",
   "metadata": {},
   "outputs": [
    {
     "name": "stdout",
     "output_type": "stream",
     "text": [
      "{'Galaxia': 2, 'Mundo': 13}\n"
     ]
    }
   ],
   "source": [
    "# Removendo dados de um dicionário\n",
    "\n",
    "dicionario_vazio.pop('Curso')\n",
    "\n",
    "print(dicionario_vazio)"
   ]
  },
  {
   "cell_type": "code",
   "execution_count": 6,
   "id": "8294a86b",
   "metadata": {},
   "outputs": [
    {
     "name": "stdout",
     "output_type": "stream",
     "text": [
      "             WEG3  PCAR3\n",
      "2022-07-05  50.10  20.05\n",
      "2022-07-06  49.09  19.06\n",
      "2022-07-07  30.06  21.39\n"
     ]
    }
   ],
   "source": [
    "# Aplicabilidades dicionários\n",
    "\n",
    "import pandas as pd\n",
    "\n",
    "# Tabela de cotações\n",
    "\n",
    "dicionario_cotacoes = {'WEG3': [50.10,49.09,30.06],\n",
    "                      'PCAR3': [20.05,19.06,21.39]}\n",
    "\n",
    "tabela_cotacoes = pd.DataFrame(data = dicionario_cotacoes,\n",
    "                              index = pd.date_range(start='2022-07-05',end='2022-07-07'))\n",
    "\n",
    "print(tabela_cotacoes)"
   ]
  },
  {
   "cell_type": "code",
   "execution_count": 7,
   "id": "fa413f92",
   "metadata": {},
   "outputs": [
    {
     "name": "stdout",
     "output_type": "stream",
     "text": [
      "Novo Mercado\n"
     ]
    }
   ],
   "source": [
    "# Características de um objeto\n",
    "\n",
    "weg = {'Nome': 'Weg', 'Segmento de listagem': 'Novo Mercado',\n",
    "      'Somente ações ON': True, 'Conselho majoritariamente independente': True}\n",
    "\n",
    "print(weg['Segmento de listagem'])"
   ]
  },
  {
   "cell_type": "code",
   "execution_count": 8,
   "id": "eeb32010",
   "metadata": {},
   "outputs": [
    {
     "name": "stdout",
     "output_type": "stream",
     "text": [
      "Pantera Negra\n"
     ]
    }
   ],
   "source": [
    "# Catálagos de filmes\n",
    "\n",
    "dicionario_marvel = {'Filme': 'Pantera Negra', 'Data estreia': '2018-02-15',\n",
    "                    'Bilheteria (em bilhões US$)': 1.34, 'Ator principal': 'Chadwick Boseman'}\n",
    "\n",
    "print(dicionario_marvel['Filme'])"
   ]
  },
  {
   "cell_type": "markdown",
   "id": "61945ef1",
   "metadata": {},
   "source": [
    "# Desafios\n",
    "\n",
    "- Exercício 14: Crie um dicionário sobre as características de uma empresa a sua escolha. As chaves deverão ser as informações nome, cnpj, códigos de negociação, ano de fundação, qual segmento de listagem da empresa, P/L e Roe.\n",
    "\n",
    "- Exercício 15: Com o dicionário do exercício anterior, crie um programa que informe ao usuário qual empresa está sendo estudada, os indicadores da empresa e o segmento de listagem e, em seguida, peça ao usuário para digitar se ele compraria ou não a empresa. Adicione essas características ao dicionário original."
   ]
  },
  {
   "cell_type": "code",
   "execution_count": 19,
   "id": "288e9487",
   "metadata": {},
   "outputs": [],
   "source": [
    "# Exercício 14\n",
    "\n",
    "americanas = {'nome': 'Americanas S.A', 'CNPJ': '33.014.556/0001-96','Códigos de Negociação': ['LAME3', 'LAME4'],\n",
    "             'Ano de fundação': 1929, 'Segmento de Listagem': 'Produtos Diversos', 'P/L': 166.24, 'ROE': 0.0028}"
   ]
  },
  {
   "cell_type": "code",
   "execution_count": null,
   "id": "817e627f",
   "metadata": {},
   "outputs": [
    {
     "name": "stdout",
     "output_type": "stream",
     "text": [
      "A empresa estudada é a Americanas S.A!\n",
      "O CNPJ da Americanas S.A é: 33.014.556/0001-96.\n",
      "Ela é encontrada nos códigos de negociação: ['LAME3', 'LAME4'].\n",
      "Tem seu ano de fundação dado em 1929.\n",
      "Seu segmento de listagem é: Produtos Diversos.\n",
      "Seu P/L é 166.24 e seu ROE é 0.0028.\n",
      "Com base nas informações, você compraria a empresa? (S/N)\n"
     ]
    }
   ],
   "source": [
    "# Exercício 15\n",
    "\n",
    "print(f\"A empresa estudada é a {americanas['nome']}!\")\n",
    "print(f\"O CNPJ da {americanas['nome']} é: {americanas['CNPJ']}.\")\n",
    "print(f\"Ela é encontrada nos códigos de negociação: {americanas['Códigos de Negociação']}.\")\n",
    "print(f\"Tem seu ano de fundação dado em {americanas['Ano de fundação']}.\")\n",
    "print(f\"Seu segmento de listagem é: {americanas['Segmento de Listagem']}.\")\n",
    "print(f\"Seu P/L é {americanas['P/L']} e seu ROE é {americanas['ROE']}.\")\n",
    "print(\"Com base nas informações, você compraria a empresa? (S/N)\")\n",
    "comprar = input()\n",
    "americanas['Comprar'] = comprar"
   ]
  },
  {
   "cell_type": "code",
   "execution_count": 18,
   "id": "16451f40",
   "metadata": {},
   "outputs": [
    {
     "data": {
      "text/plain": [
       "{'nome': 'Americanas S.A',\n",
       " 'CNPJ': '33.014.556/0001-96',\n",
       " 'Códigos de Negociação': ['LAME3', 'LAME4'],\n",
       " 'Ano de fundação': 1929,\n",
       " 'Segmento de Listagem': 'Produtos Diversos',\n",
       " 'P/L': 166.24,\n",
       " 'ROE': 0.0028,\n",
       " 'Comprar': 'S'}"
      ]
     },
     "execution_count": 18,
     "metadata": {},
     "output_type": "execute_result"
    }
   ],
   "source": [
    "americanas"
   ]
  },
  {
   "cell_type": "code",
   "execution_count": null,
   "id": "59dce2ee",
   "metadata": {},
   "outputs": [],
   "source": []
  }
 ],
 "metadata": {
  "kernelspec": {
   "display_name": "Python 3 (ipykernel)",
   "language": "python",
   "name": "python3"
  },
  "language_info": {
   "codemirror_mode": {
    "name": "ipython",
    "version": 3
   },
   "file_extension": ".py",
   "mimetype": "text/x-python",
   "name": "python",
   "nbconvert_exporter": "python",
   "pygments_lexer": "ipython3",
   "version": "3.9.13"
  }
 },
 "nbformat": 4,
 "nbformat_minor": 5
}
