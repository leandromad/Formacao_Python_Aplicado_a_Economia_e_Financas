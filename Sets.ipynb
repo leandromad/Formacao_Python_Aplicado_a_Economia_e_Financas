{
 "cells": [
  {
   "cell_type": "code",
   "execution_count": 1,
   "id": "48da9275",
   "metadata": {},
   "outputs": [
    {
     "name": "stdout",
     "output_type": "stream",
     "text": [
      "{'weg', 'c&a', 'SLC agricola', 'renner'}\n"
     ]
    }
   ],
   "source": [
    "set_teste = {'weg','renner','c&a','SLC agricola'}\n",
    "set_numero = {1,4,5,8}\n",
    "\n",
    "print(set_teste)"
   ]
  },
  {
   "cell_type": "code",
   "execution_count": 2,
   "id": "082a3c4c",
   "metadata": {},
   "outputs": [
    {
     "name": "stdout",
     "output_type": "stream",
     "text": [
      "['weg', 'renner']\n"
     ]
    }
   ],
   "source": [
    "# Remover Duplicatas\n",
    "\n",
    "lista_duplicada = ['renner','renner','weg','weg']\n",
    "\n",
    "lista_unica = list(set(lista_duplicada))\n",
    "\n",
    "print(lista_unica)"
   ]
  },
  {
   "cell_type": "code",
   "execution_count": 3,
   "id": "97ff54ac",
   "metadata": {},
   "outputs": [
    {
     "name": "stdout",
     "output_type": "stream",
     "text": [
      "{1, 4, 5, 8, 10}\n",
      "{1, 4, 5, 8, 10, 20, 25, 60}\n"
     ]
    }
   ],
   "source": [
    "# Adicionando um ou mais elementos a sets\n",
    "\n",
    "set_numero.add(10)\n",
    "\n",
    "print(set_numero)\n",
    "\n",
    "set_numero.update([20,25,60])\n",
    "\n",
    "print(set_numero)"
   ]
  },
  {
   "cell_type": "code",
   "execution_count": 4,
   "id": "3f1ff2df",
   "metadata": {},
   "outputs": [],
   "source": [
    "# Removendo elementos\n",
    "\n",
    "set_numero.discard(1)"
   ]
  },
  {
   "cell_type": "code",
   "execution_count": 5,
   "id": "9a0ddadd",
   "metadata": {},
   "outputs": [
    {
     "name": "stdout",
     "output_type": "stream",
     "text": [
      "{4, 5, 8, 10, 20, 25, 60}\n"
     ]
    }
   ],
   "source": [
    "print(set_numero)"
   ]
  },
  {
   "cell_type": "code",
   "execution_count": 6,
   "id": "11a7678b",
   "metadata": {},
   "outputs": [],
   "source": [
    "# Operações matemáticas de união, intersecção e diferença\n",
    "\n",
    "meu_set = {1,2,3,5,8,9}\n",
    "meu_set_2 = {1,4,5,6,8,11,12}\n"
   ]
  },
  {
   "cell_type": "code",
   "execution_count": 7,
   "id": "f8f1140c",
   "metadata": {},
   "outputs": [
    {
     "name": "stdout",
     "output_type": "stream",
     "text": [
      "{1, 2, 3, 4, 5, 6, 8, 9, 11, 12}\n",
      "{1, 2, 3, 4, 5, 6, 8, 9, 11, 12}\n"
     ]
    }
   ],
   "source": [
    "# União\n",
    "\n",
    "print(meu_set | meu_set_2)\n",
    "print(meu_set.union(meu_set_2))"
   ]
  },
  {
   "cell_type": "code",
   "execution_count": 8,
   "id": "8d37358d",
   "metadata": {},
   "outputs": [
    {
     "name": "stdout",
     "output_type": "stream",
     "text": [
      "{8, 1, 5}\n",
      "{8, 1, 5}\n"
     ]
    }
   ],
   "source": [
    "# Intersecção\n",
    "\n",
    "print(meu_set & meu_set_2)\n",
    "print(meu_set.intersection(meu_set_2))"
   ]
  },
  {
   "cell_type": "code",
   "execution_count": 9,
   "id": "4ba334ce",
   "metadata": {},
   "outputs": [
    {
     "name": "stdout",
     "output_type": "stream",
     "text": [
      "{9, 2, 3}\n",
      "{9, 2, 3}\n"
     ]
    }
   ],
   "source": [
    "# Diferença\n",
    "\n",
    "print(meu_set - meu_set_2)\n",
    "print(meu_set.difference(meu_set_2))"
   ]
  },
  {
   "cell_type": "markdown",
   "id": "2945b9ba",
   "metadata": {},
   "source": [
    "# Desafios\n",
    "\n",
    "- Exercício 13: Crie um programa que receba o nome do usuário, dê boas vindas e colete as informações de 2 carteiras de investimentos com 3 nomes de empresas cada. Devolva pro usuário a intercecção entre as carteiras de investimento, a diferença e a união entre elas."
   ]
  },
  {
   "cell_type": "code",
   "execution_count": 19,
   "id": "cf5875a7",
   "metadata": {},
   "outputs": [
    {
     "name": "stdout",
     "output_type": "stream",
     "text": [
      "Primeiramente, digite seu nome: Leandro\n",
      "Olá Leandro estamos coletando informações de duas carteiras de investimentos diferentes, por favor insira as informações necessárias\n",
      "Insira o nome da empresa 1 para a composição da carteira 1: Americanas\n",
      "Insira o nome da empresa 2 para a composição da carteira 1: Weg\n",
      "Insira o nome da empresa 3 para a composição da carteira 1: Vivo\n",
      "Obrigado pelas informações, poderia nos fornecer o nome de mais 3 empresas?\n",
      "Insira o nome da empresa 1 para a composição da carteira 2: Americanas\n",
      "Insira o nome da empresa 2 para a composição da carteira 2: Vale\n",
      "Insira o nome da empresa 3 para a composição da carteira 2: Petrobras\n",
      "Com base nas informações fornecidas, concluimos: \n",
      "As empresas comuns entre as duas carteiras são: {'Americanas'}\n",
      "As empresas diferentes entre as duas carteiras são: {'Vivo', 'Weg'}\n",
      "A composição da carteira 1 e 2 é: {'Weg', 'Petrobras', 'Vivo', 'Americanas', 'Vale'}\n"
     ]
    }
   ],
   "source": [
    "# Exercício 13\n",
    "nome = input(\"Primeiramente, digite seu nome: \")\n",
    "print(f\"Olá {nome} estamos coletando informações de duas carteiras de investimentos diferentes, por favor insira as informações necessárias\")\n",
    "carteira_1 = set({})\n",
    "while len(carteira_1) < 3:\n",
    "    empresa_carteira_1 = input(f\"Insira o nome da empresa {len(carteira_1)+1} para a composição da carteira 1: \")\n",
    "    carteira_1.add(empresa_carteira_1)\n",
    "\n",
    "print(\"Obrigado pelas informações, poderia nos fornecer o nome de mais 3 empresas?\")\n",
    "carteira_2 = set({})\n",
    "while len(carteira_2) < 3:\n",
    "    empresa_carteira_2 = input(f\"Insira o nome da empresa {len(carteira_2)+1} para a composição da carteira 2: \")\n",
    "    carteira_2.add(empresa_carteira_2)\n",
    "\n",
    "interseccao_entre_carteiras = carteira_1.intersection(carteira_2)\n",
    "diferenca_entre_carteiras = carteira_1.difference(carteira_2)\n",
    "uniao_entre_carteiras = carteira_1.union(carteira_2)\n",
    "\n",
    "print(\"Com base nas informações fornecidas, concluimos: \")\n",
    "print(f'As empresas comuns entre as duas carteiras são: {interseccao_entre_carteiras}')\n",
    "print(f'As empresas diferentes entre as duas carteiras são: {diferenca_entre_carteiras}')\n",
    "print(f'A composição da carteira 1 e 2 é: {uniao_entre_carteiras}')"
   ]
  },
  {
   "cell_type": "code",
   "execution_count": null,
   "id": "924da166",
   "metadata": {},
   "outputs": [],
   "source": []
  }
 ],
 "metadata": {
  "kernelspec": {
   "display_name": "Python 3 (ipykernel)",
   "language": "python",
   "name": "python3"
  },
  "language_info": {
   "codemirror_mode": {
    "name": "ipython",
    "version": 3
   },
   "file_extension": ".py",
   "mimetype": "text/x-python",
   "name": "python",
   "nbconvert_exporter": "python",
   "pygments_lexer": "ipython3",
   "version": "3.9.13"
  }
 },
 "nbformat": 4,
 "nbformat_minor": 5
}
