{
 "cells": [
  {
   "cell_type": "markdown",
   "id": "03aeb628",
   "metadata": {},
   "source": [
    "# Tipos de dados no Python\n",
    "\n",
    "Aula com ensinamentos sobre os tipos de dados dentro do Python. Além disso, também aprenderemos a colocar textos variáveis dentro do nosso programa, para que as strings sejam melhor aproveitadas nos nossos códigos. Isso acontece principalmente quando precisamos colocar um texto no nosso programa que se encaixe em diferentes cenários mas tem a mesma estrutura."
   ]
  },
  {
   "cell_type": "code",
   "execution_count": 1,
   "id": "8b1fe9cb",
   "metadata": {},
   "outputs": [],
   "source": [
    "inteiro = int(5)\n",
    "flutuante_ou_decimal = float(1.5)\n",
    "string = str(\"codigo.py\")\n",
    "string2 = str('curso de python')\n",
    "boleano = bool(True)\n",
    "boleano2 = bool(False)"
   ]
  },
  {
   "cell_type": "code",
   "execution_count": 2,
   "id": "6139c262",
   "metadata": {},
   "outputs": [
    {
     "name": "stdout",
     "output_type": "stream",
     "text": [
      "<class 'int'>\n",
      "5\n"
     ]
    }
   ],
   "source": [
    "# Como verificar o tipo de um objeto?\n",
    "\n",
    "print(type(inteiro))\n",
    "print(inteiro)"
   ]
  },
  {
   "cell_type": "code",
   "execution_count": 3,
   "id": "4a79274e",
   "metadata": {},
   "outputs": [
    {
     "name": "stdout",
     "output_type": "stream",
     "text": [
      "<class 'str'>\n",
      "5\n",
      "False\n"
     ]
    }
   ],
   "source": [
    "# Como converter um tipo para o outro?\n",
    "\n",
    "inteiro = str(inteiro)\n",
    "print(type(inteiro))\n",
    "print(inteiro)\n",
    "\n",
    "print(inteiro == 5) # Vai retornar False porque agora 5 é uma string"
   ]
  },
  {
   "cell_type": "code",
   "execution_count": 4,
   "id": "b7eaf7d7",
   "metadata": {},
   "outputs": [
    {
     "name": "stdout",
     "output_type": "stream",
     "text": [
      "A melhor empresa do Brasil é a Weg\n"
     ]
    }
   ],
   "source": [
    "# Como criar string variáveis?\n",
    "\n",
    "string_normal = \"A melhor empresa do Brasil é a Weg\"\n",
    "\n",
    "empresa = \"Weg\" # Podemos colocar um input de usuário aqui\n",
    "\n",
    "string_variavel = f\"A melhor empresa do Brasil é a {empresa}\"\n",
    "\n",
    "print(string_variavel)"
   ]
  },
  {
   "cell_type": "markdown",
   "id": "6963bdc5",
   "metadata": {},
   "source": [
    "# Desafios\n",
    "\n",
    "- Exercício 3: Crie um objeto de cada tipo no python. Depois, verifique o tipo de cada um deles no comando type e converta o objeto inteiro para string\n",
    "\n",
    "- Exercício 4: Crie uma string variável que receba um nome de uma pessoa e devolva uma frase dizendo que essa pessoa é a mais rica do mundo."
   ]
  },
  {
   "cell_type": "code",
   "execution_count": 6,
   "id": "ba40c919",
   "metadata": {},
   "outputs": [
    {
     "name": "stdout",
     "output_type": "stream",
     "text": [
      "<class 'int'>\n",
      "<class 'str'>\n",
      "<class 'float'>\n",
      "<class 'bool'>\n"
     ]
    }
   ],
   "source": [
    "# Exercício 3\n",
    "\n",
    "inteiro = 5\n",
    "string = str(\"Bom dia!!!\")\n",
    "flutuante = 5.2\n",
    "boleano = bool(True)\n",
    "\n",
    "print(type(inteiro))\n",
    "print(type(string))\n",
    "print(type(flutuante))\n",
    "print(type(boleano))"
   ]
  },
  {
   "cell_type": "code",
   "execution_count": 8,
   "id": "a5ecc5ed",
   "metadata": {},
   "outputs": [
    {
     "name": "stdout",
     "output_type": "stream",
     "text": [
      "A pessoa mais rica do mundo é o(a) Leandro.\n"
     ]
    }
   ],
   "source": [
    "# Exercício 4\n",
    "\n",
    "nome = 'Leandro'\n",
    "\n",
    "print(f\"A pessoa mais rica do mundo é o(a) {nome}.\")"
   ]
  },
  {
   "cell_type": "code",
   "execution_count": null,
   "id": "576f0d2d",
   "metadata": {},
   "outputs": [],
   "source": []
  }
 ],
 "metadata": {
  "kernelspec": {
   "display_name": "Python 3 (ipykernel)",
   "language": "python",
   "name": "python3"
  },
  "language_info": {
   "codemirror_mode": {
    "name": "ipython",
    "version": 3
   },
   "file_extension": ".py",
   "mimetype": "text/x-python",
   "name": "python",
   "nbconvert_exporter": "python",
   "pygments_lexer": "ipython3",
   "version": "3.9.13"
  }
 },
 "nbformat": 4,
 "nbformat_minor": 5
}
