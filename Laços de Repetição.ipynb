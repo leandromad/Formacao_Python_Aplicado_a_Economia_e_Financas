{
 "cells": [
  {
   "cell_type": "code",
   "execution_count": 1,
   "id": "05e24133",
   "metadata": {},
   "outputs": [],
   "source": [
    "import time\n",
    "import pandas as pd\n",
    "import datetime\n",
    "\n",
    "# Loop simples em uma lista\n",
    "\n",
    "lista_empresas = ['Weg','Vale','Petrobras']"
   ]
  },
  {
   "cell_type": "code",
   "execution_count": 2,
   "id": "37f57c5e",
   "metadata": {},
   "outputs": [
    {
     "name": "stdout",
     "output_type": "stream",
     "text": [
      "Weg\n",
      "Vale\n",
      "Petrobras\n"
     ]
    }
   ],
   "source": [
    "for empresa in lista_empresas:\n",
    "    print(empresa)\n",
    "    time.sleep(1)"
   ]
  },
  {
   "cell_type": "code",
   "execution_count": 3,
   "id": "6e59c66b",
   "metadata": {},
   "outputs": [
    {
     "name": "stdout",
     "output_type": "stream",
     "text": [
      "Weg\n",
      "Vale\n",
      "Petrobras\n"
     ]
    }
   ],
   "source": [
    "# Loop em um range.\n",
    "\n",
    "for i in range(0,3):\n",
    "    print(lista_empresas[i])"
   ]
  },
  {
   "cell_type": "code",
   "execution_count": 7,
   "id": "6392cd4c",
   "metadata": {},
   "outputs": [
    {
     "name": "stdout",
     "output_type": "stream",
     "text": [
      "  Nome empresa  Cotação\n",
      "0          Weg       20\n",
      "0         Vale       30\n",
      "0    Petrobras       45\n"
     ]
    }
   ],
   "source": [
    "# Por que usar um range?\n",
    "\n",
    "lista_cotacoes = [20, 30, 45]\n",
    "\n",
    "lista_dicionarios = []\n",
    "\n",
    "for i in range(0, 3):\n",
    "    \n",
    "    lista_dicionarios.append(pd.DataFrame({'Nome empresa': lista_empresas[i], 'Cotação': lista_cotacoes[i]}, index=[0]))\n",
    "    \n",
    "tabela = pd.concat(lista_dicionarios)\n",
    "\n",
    "print(tabela)\n",
    "\n"
   ]
  },
  {
   "cell_type": "code",
   "execution_count": 12,
   "id": "6969a9c9",
   "metadata": {},
   "outputs": [
    {
     "name": "stdout",
     "output_type": "stream",
     "text": [
      "  Nome empresa  Cotação\n",
      "0          Weg       20\n",
      "1         Vale       30\n",
      "2    Petrobras       45\n"
     ]
    }
   ],
   "source": [
    "# Enumerate\n",
    "\n",
    "lista_dicionarios = []\n",
    "\n",
    "for indice, cotacao in enumerate(lista_cotacoes):\n",
    "    \n",
    "    lista_dicionarios.append(pd.DataFrame({'Nome empresa': lista_empresas[indice], 'Cotação': cotacao}, index = [indice]))\n",
    "    \n",
    "tabela = pd.concat(lista_dicionarios)\n",
    "\n",
    "print(tabela)"
   ]
  },
  {
   "cell_type": "code",
   "execution_count": 13,
   "id": "85ab6f0a",
   "metadata": {},
   "outputs": [
    {
     "name": "stdout",
     "output_type": "stream",
     "text": [
      "O programa está rodando há 0:00:00 segundos\n",
      "O programa está rodando há 0:00:05.013939 segundos\n",
      "O programa está rodando há 0:00:10.020356 segundos\n"
     ]
    },
    {
     "ename": "KeyboardInterrupt",
     "evalue": "",
     "output_type": "error",
     "traceback": [
      "\u001b[1;31m---------------------------------------------------------------------------\u001b[0m",
      "\u001b[1;31mKeyboardInterrupt\u001b[0m                         Traceback (most recent call last)",
      "\u001b[1;32m~\\AppData\\Local\\Temp\\ipykernel_15596\\3041310256.py\u001b[0m in \u001b[0;36m<module>\u001b[1;34m\u001b[0m\n\u001b[0;32m      6\u001b[0m     \u001b[0mprint\u001b[0m\u001b[1;33m(\u001b[0m\u001b[1;34mf'O programa está rodando há {tempo_rodando} segundos'\u001b[0m\u001b[1;33m)\u001b[0m\u001b[1;33m\u001b[0m\u001b[1;33m\u001b[0m\u001b[0m\n\u001b[0;32m      7\u001b[0m \u001b[1;33m\u001b[0m\u001b[0m\n\u001b[1;32m----> 8\u001b[1;33m     \u001b[0mtime\u001b[0m\u001b[1;33m.\u001b[0m\u001b[0msleep\u001b[0m\u001b[1;33m(\u001b[0m\u001b[1;36m5\u001b[0m\u001b[1;33m)\u001b[0m\u001b[1;33m\u001b[0m\u001b[1;33m\u001b[0m\u001b[0m\n\u001b[0m",
      "\u001b[1;31mKeyboardInterrupt\u001b[0m: "
     ]
    }
   ],
   "source": [
    "tempo = datetime.datetime.now()\n",
    "\n",
    "while True:\n",
    "    \n",
    "    tempo_rodando = datetime.datetime.now() - tempo\n",
    "    print(f'O programa está rodando há {tempo_rodando} segundos')\n",
    "    \n",
    "    time.sleep(5)"
   ]
  },
  {
   "cell_type": "code",
   "execution_count": 14,
   "id": "70dbad52",
   "metadata": {},
   "outputs": [
    {
     "name": "stdout",
     "output_type": "stream",
     "text": [
      "20\n",
      "30\n"
     ]
    }
   ],
   "source": [
    "# Usando while sem ser infinito\n",
    "\n",
    "contador = 0\n",
    "\n",
    "while lista_cotacoes[contador] < 35:\n",
    "    \n",
    "    print(lista_cotacoes[contador])\n",
    "    \n",
    "    contador += 1"
   ]
  },
  {
   "cell_type": "markdown",
   "id": "b4a35279",
   "metadata": {},
   "source": [
    "# Desafios\n",
    "\n",
    "- Exercício 20: Faça um programa que leia a cotação de 5 empresas. No final, mostre na tela qual foi a miaor e a menor cotação lida.\n",
    "- Exercício 21: Crie uma ferramenta que deixe o usuário montar uma carteira de investimento e receba informações: nome da empresa, P/L (inteiro) e ROE. A ferramenta deixará o usuário adicionar quantas empresas ele quiser. Depois que o cadastro de empresas terminar, o programa irá exibir as seguintes estatísticas da carteira montada:\n",
    "    - Número de ativos na carteira\n",
    "    - Média de P/L\n",
    "    - Média do ROE\n",
    "    - Qual a empresa mais barata da carteira (menor P/L)\n",
    "    - Se o usuário tiver menos de 3 ativos, avisar que a carteira está muito concentrada em poucos ativos"
   ]
  },
  {
   "cell_type": "code",
   "execution_count": 24,
   "id": "2be1a77c",
   "metadata": {},
   "outputs": [
    {
     "name": "stdout",
     "output_type": "stream",
     "text": [
      "Insira o valor da cotação da empresa 1: 10.10\n",
      "Insira o valor da cotação da empresa 2: 2.30\n",
      "Insira o valor da cotação da empresa 3: 5.40\n",
      "Insira o valor da cotação da empresa 4: 1.20\n",
      "Insira o valor da cotação da empresa 5: 20.20\n",
      "A maior cotação é da empresa 5 e o seu valor é 20.2\n",
      "A menor cotação é da empresa 4 e o seu valor é 1.2\n"
     ]
    }
   ],
   "source": [
    "# Exercício 20:\n",
    "\n",
    "import time\n",
    "\n",
    "lista_cotacoes = []\n",
    "for i in range(0, 5):\n",
    "    \n",
    "    cotacao = float(input(f\"Insira o valor da cotação da empresa {i+1}: \"))\n",
    "    lista_cotacoes.append(cotacao)\n",
    "\n",
    "maior_cotacao = max(lista_cotacoes)\n",
    "index_maior_cotacao = lista_cotacoes.index(max(lista_cotacoes)) + 1\n",
    "menor_cotacao = min(lista_cotacoes)\n",
    "index_menor_cotacao = lista_cotacoes.index(min(lista_cotacoes)) + 1\n",
    "\n",
    "print(f\"A maior cotação é da empresa {index_maior_cotacao} e o seu valor é {maior_cotacao}\")\n",
    "time.sleep(2)\n",
    "print(f\"A menor cotação é da empresa {index_menor_cotacao} e o seu valor é {menor_cotacao}\")"
   ]
  },
  {
   "cell_type": "code",
   "execution_count": 38,
   "id": "489c8e7b",
   "metadata": {},
   "outputs": [
    {
     "name": "stdout",
     "output_type": "stream",
     "text": [
      "Seja bem vindo ao analisador de carteira de investimentos.\n",
      "\n",
      "Nós iremos analisar a carteira que for passada para nós.\n",
      "\n",
      "Vamos pedir as seguintes informações: Nome da empresa, P/L e ROE.\n",
      "\n",
      "Não esqueça de digitar o ROE no formato decimal!\n",
      "\n",
      "Insira o nome de uma empresa: Americanas\n",
      "Insira o P/L da empresa: 181\n",
      "Insira o ROE da empresa: 0.0028\n",
      "Deseja inserir outra empresa?(S/N) s\n",
      "Insira o nome de uma empresa: Petrobras\n",
      "Insira o P/L da empresa: 2\n",
      "Insira o ROE da empresa: 0.4738\n",
      "Deseja inserir outra empresa?(S/N) s\n",
      "Insira o nome de uma empresa: Vale\n",
      "Insira o P/L da empresa: 4\n",
      "Insira o ROE da empresa: 0.5945\n",
      "Deseja inserir outra empresa?(S/N) s\n",
      "Insira o nome de uma empresa: Weg\n",
      "Insira o P/L da empresa: 42\n",
      "Insira o ROE da empresa: 0.2899\n",
      "Deseja inserir outra empresa?(S/N) n\n",
      "A carteira é composta por 4 ativos\n",
      "A média do P/L da carteira é de 57.25\n",
      "A média do ROE da carteira é de 34%\n",
      "A empresa mais barata da carteira é a Petrobras\n"
     ]
    }
   ],
   "source": [
    "# Exercício 21\n",
    "print(\"\"\"Seja bem vindo ao analisador de carteira de investimentos.\\n\n",
    "Nós iremos analisar a carteira que for passada para nós.\\n\n",
    "Vamos pedir as seguintes informações: Nome da empresa, P/L e ROE.\\n\n",
    "Não esqueça de digitar o ROE no formato decimal!\n",
    "\"\"\")\n",
    "chave = True\n",
    "lista_nome = []\n",
    "lista_preco_lucro = []\n",
    "lista_roe = []\n",
    "\n",
    "while chave:\n",
    "    nome = str(input(\"Insira o nome de uma empresa: \"))\n",
    "    preco_lucro = int(input(\"Insira o P/L da empresa: \"))\n",
    "    roe = float(input(\"Insira o ROE da empresa: \"))\n",
    "    \n",
    "    \n",
    "    lista_nome.append(nome)\n",
    "    lista_preco_lucro.append(preco_lucro)\n",
    "    lista_roe.append(roe)\n",
    "    \n",
    "    mais_empresa = str(input(\"Deseja inserir outra empresa?(S/N) \")).lower()\n",
    "    \n",
    "    if mais_empresa != 'n' and mais_empresa != 's':\n",
    "        invalido = True\n",
    "        \n",
    "        while invalido:\n",
    "            \n",
    "            mais_empresa = str(input(\"Por favor digite um comando válido (S/N)\")).lower()\n",
    "            \n",
    "            if mais_empresa == \"n\" or mais_empresa == \"s\":\n",
    "                break\n",
    "    if mais_empresa == \"n\":\n",
    "        break\n",
    "        \n",
    "        \n",
    "numero_ativos = len(lista_nome)\n",
    "media_preco_lucro = sum(lista_preco_lucro)/len(lista_preco_lucro)\n",
    "media_roe = sum(lista_roe)/len(lista_roe)\n",
    "media_roe = \"{:.0%}\".format(media_roe)\n",
    "menor_preco_lucro = lista_preco_lucro.index(min(lista_preco_lucro))\n",
    "empresa_menor_preco_lucro = lista_nome[menor_preco_lucro]\n",
    "\n",
    "print(f\"A carteira é composta por {numero_ativos} ativos\")\n",
    "print(f\"A média do P/L da carteira é de {media_preco_lucro}\")\n",
    "print(f\"A média do ROE da carteira é de {media_roe}\")\n",
    "print(f\"A empresa mais barata da carteira é a {empresa_menor_preco_lucro}\")\n",
    "\n",
    "if numero_ativos <3:\n",
    "    print(f\"Tome cuidado com a concentração em poucos ativos. Sua carteira possui apenas {numero_ativos} ativos\")\n",
    "    "
   ]
  },
  {
   "cell_type": "code",
   "execution_count": null,
   "id": "ad34e66b",
   "metadata": {},
   "outputs": [],
   "source": []
  }
 ],
 "metadata": {
  "kernelspec": {
   "display_name": "Python 3 (ipykernel)",
   "language": "python",
   "name": "python3"
  },
  "language_info": {
   "codemirror_mode": {
    "name": "ipython",
    "version": 3
   },
   "file_extension": ".py",
   "mimetype": "text/x-python",
   "name": "python",
   "nbconvert_exporter": "python",
   "pygments_lexer": "ipython3",
   "version": "3.9.13"
  }
 },
 "nbformat": 4,
 "nbformat_minor": 5
}
